{
  "cells": [
    {
      "cell_type": "markdown",
      "metadata": {
        "id": "ExkoPoNs60Cu"
      },
      "source": [
        "#### Setup"
      ]
    },
    {
      "cell_type": "code",
      "execution_count": null,
      "metadata": {
        "id": "ZcoBEft660Cv"
      },
      "outputs": [],
      "source": [
        "import torch\n",
        "import torch.nn as nn\n",
        "import matplotlib.pyplot as plt\n",
        "import numpy as np\n",
        "import pandas as pd\n",
        "import os, glob\n",
        "import librosa\n",
        "import librosa.display\n",
        "import IPython\n",
        "from IPython.display import Audio\n",
        "from IPython.display import Image\n",
        "import warnings; warnings.filterwarnings('ignore')"
      ]
    },
    {
      "cell_type": "code",
      "execution_count": null,
      "metadata": {
        "colab": {
          "base_uri": "https://localhost:8080/"
        },
        "id": "38YJn86i60Cz",
        "outputId": "cafa5c71-9bae-4737-9d9e-2c4bbc1f450b"
      },
      "outputs": [
        {
          "output_type": "stream",
          "name": "stdout",
          "text": [
            "Requirement already satisfied: librosa in /usr/local/lib/python3.10/dist-packages (0.10.2.post1)\n",
            "Requirement already satisfied: audioread>=2.1.9 in /usr/local/lib/python3.10/dist-packages (from librosa) (3.0.1)\n",
            "Requirement already satisfied: numpy!=1.22.0,!=1.22.1,!=1.22.2,>=1.20.3 in /usr/local/lib/python3.10/dist-packages (from librosa) (1.25.2)\n",
            "Requirement already satisfied: scipy>=1.2.0 in /usr/local/lib/python3.10/dist-packages (from librosa) (1.11.4)\n",
            "Requirement already satisfied: scikit-learn>=0.20.0 in /usr/local/lib/python3.10/dist-packages (from librosa) (1.2.2)\n",
            "Requirement already satisfied: joblib>=0.14 in /usr/local/lib/python3.10/dist-packages (from librosa) (1.4.2)\n",
            "Requirement already satisfied: decorator>=4.3.0 in /usr/local/lib/python3.10/dist-packages (from librosa) (4.4.2)\n",
            "Requirement already satisfied: numba>=0.51.0 in /usr/local/lib/python3.10/dist-packages (from librosa) (0.58.1)\n",
            "Requirement already satisfied: soundfile>=0.12.1 in /usr/local/lib/python3.10/dist-packages (from librosa) (0.12.1)\n",
            "Requirement already satisfied: pooch>=1.1 in /usr/local/lib/python3.10/dist-packages (from librosa) (1.8.1)\n",
            "Requirement already satisfied: soxr>=0.3.2 in /usr/local/lib/python3.10/dist-packages (from librosa) (0.3.7)\n",
            "Requirement already satisfied: typing-extensions>=4.1.1 in /usr/local/lib/python3.10/dist-packages (from librosa) (4.11.0)\n",
            "Requirement already satisfied: lazy-loader>=0.1 in /usr/local/lib/python3.10/dist-packages (from librosa) (0.4)\n",
            "Requirement already satisfied: msgpack>=1.0 in /usr/local/lib/python3.10/dist-packages (from librosa) (1.0.8)\n",
            "Requirement already satisfied: packaging in /usr/local/lib/python3.10/dist-packages (from lazy-loader>=0.1->librosa) (24.0)\n",
            "Requirement already satisfied: llvmlite<0.42,>=0.41.0dev0 in /usr/local/lib/python3.10/dist-packages (from numba>=0.51.0->librosa) (0.41.1)\n",
            "Requirement already satisfied: platformdirs>=2.5.0 in /usr/local/lib/python3.10/dist-packages (from pooch>=1.1->librosa) (4.2.2)\n",
            "Requirement already satisfied: requests>=2.19.0 in /usr/local/lib/python3.10/dist-packages (from pooch>=1.1->librosa) (2.31.0)\n",
            "Requirement already satisfied: threadpoolctl>=2.0.0 in /usr/local/lib/python3.10/dist-packages (from scikit-learn>=0.20.0->librosa) (3.5.0)\n",
            "Requirement already satisfied: cffi>=1.0 in /usr/local/lib/python3.10/dist-packages (from soundfile>=0.12.1->librosa) (1.16.0)\n",
            "Requirement already satisfied: pycparser in /usr/local/lib/python3.10/dist-packages (from cffi>=1.0->soundfile>=0.12.1->librosa) (2.22)\n",
            "Requirement already satisfied: charset-normalizer<4,>=2 in /usr/local/lib/python3.10/dist-packages (from requests>=2.19.0->pooch>=1.1->librosa) (3.3.2)\n",
            "Requirement already satisfied: idna<4,>=2.5 in /usr/local/lib/python3.10/dist-packages (from requests>=2.19.0->pooch>=1.1->librosa) (3.7)\n",
            "Requirement already satisfied: urllib3<3,>=1.21.1 in /usr/local/lib/python3.10/dist-packages (from requests>=2.19.0->pooch>=1.1->librosa) (2.0.7)\n",
            "Requirement already satisfied: certifi>=2017.4.17 in /usr/local/lib/python3.10/dist-packages (from requests>=2.19.0->pooch>=1.1->librosa) (2024.2.2)\n"
          ]
        }
      ],
      "source": [
        "\n",
        "!pip install -U librosa"
      ]
    },
    {
      "cell_type": "code",
      "execution_count": null,
      "metadata": {
        "colab": {
          "base_uri": "https://localhost:8080/"
        },
        "id": "NZS83DtzrtiC",
        "outputId": "d9dd11bb-e15e-4bf7-92ca-dd2ab1c3d0b9"
      },
      "outputs": [
        {
          "output_type": "stream",
          "name": "stdout",
          "text": [
            "Drive already mounted at /content/drive; to attempt to forcibly remount, call drive.mount(\"/content/drive\", force_remount=True).\n"
          ]
        }
      ],
      "source": [
        "from google.colab import drive\n",
        "drive.mount('/content/drive')"
      ]
    },
    {
      "cell_type": "code",
      "execution_count": null,
      "metadata": {
        "colab": {
          "base_uri": "https://localhost:8080/"
        },
        "id": "T8GiBMh2CJCR",
        "outputId": "7470a964-4d9b-4815-c00e-3791fd7875e1"
      },
      "outputs": [
        {
          "output_type": "stream",
          "name": "stdout",
          "text": [
            "File extracted to /content/drive/MyDrive/DL1\n"
          ]
        }
      ],
      "source": [
        "\n",
        "import zipfile\n",
        "import os\n",
        "zip_file_path = '/content/drive/MyDrive/DL/RAVDESS.zip'\n",
        "extract_path = '/content/drive/MyDrive/DL1'\n",
        "\n",
        "\n",
        "if not os.path.exists(extract_path):\n",
        "    os.makedirs(extract_path)\n",
        "\n",
        "with zipfile.ZipFile(zip_file_path, 'r') as zip_ref:\n",
        "    zip_ref.extractall(extract_path)\n",
        "\n",
        "print(f'File extracted to {extract_path}')"
      ]
    },
    {
      "cell_type": "markdown",
      "metadata": {
        "id": "ADgTrt0X60C3"
      },
      "source": [
        "## Define features\n",
        "\n",
        "\n"
      ]
    },
    {
      "cell_type": "code",
      "execution_count": null,
      "metadata": {
        "id": "OBZMdi7l60C4"
      },
      "outputs": [],
      "source": [
        "# RAVDESS native sample rate is 48k\n",
        "sample_rate = 48000\n",
        "\n",
        "def feature_melspectrogram(\n",
        "    waveform,\n",
        "    sample_rate,\n",
        "    fft = 1024,\n",
        "    winlen = 512,\n",
        "    window='hamming',\n",
        "    hop=256,\n",
        "    mels=128,\n",
        "    ):\n",
        "\n",
        "    melspectrogram = librosa.feature.melspectrogram(\n",
        "        y=waveform,\n",
        "        sr=sample_rate,\n",
        "        n_fft=fft,\n",
        "        win_length=winlen,\n",
        "        window=window,\n",
        "        hop_length=hop,\n",
        "        n_mels=mels,\n",
        "        fmax=sample_rate/2)\n",
        "\n",
        "    melspectrogram = librosa.power_to_db(melspectrogram, ref=np.max)\n",
        "\n",
        "    return melspectrogram\n",
        "\n",
        "def feature_mfcc(\n",
        "    waveform,\n",
        "    sample_rate,\n",
        "    n_mfcc = 40,\n",
        "    fft = 1024,\n",
        "    winlen = 512,\n",
        "    window='hamming',\n",
        "    mels=128\n",
        "    ):\n",
        "    mfc_coefficients=librosa.feature.mfcc(\n",
        "        y=waveform,\n",
        "        sr=sample_rate,\n",
        "        n_mfcc=n_mfcc,\n",
        "        n_fft=fft,\n",
        "        win_length=winlen,\n",
        "        window=window,\n",
        "        n_mels=mels,\n",
        "        fmax=sample_rate/2\n",
        "        )\n",
        "\n",
        "    return mfc_coefficients\n",
        "\n",
        "def get_features(waveforms, features, samplerate):\n",
        "\n",
        "    file_count = 0\n",
        "\n",
        "    for waveform in waveforms:\n",
        "        mfccs = feature_mfcc(waveform, sample_rate)\n",
        "        features.append(mfccs)\n",
        "        file_count += 1\n",
        "        print('\\r'+f' Processed {file_count}/{len(waveforms)} waveforms',end='')\n",
        "\n",
        "    return features\n",
        "\n",
        "def get_waveforms(file):\n",
        "\n",
        "    waveform, _ = librosa.load(file, duration=3, offset=0.5, sr=sample_rate)\n",
        "\n",
        "    waveform_homo = np.zeros((int(sample_rate*3,)))\n",
        "    waveform_homo[:len(waveform)] = waveform\n",
        "\n",
        "    return waveform_homo\n",
        "\n",
        "emotions_dict ={\n",
        "    '0':'surprised',\n",
        "    '1':'neutral',\n",
        "    '2':'calm',\n",
        "    '3':'happy',\n",
        "    '4':'sad',\n",
        "    '5':'angry',\n",
        "    '6':'fearful',\n",
        "    '7':'disgust'\n",
        "}\n",
        "\n",
        "emotion_attributes = {\n",
        "    '01': 'normal',\n",
        "    '02': 'strong'\n",
        "}"
      ]
    },
    {
      "cell_type": "markdown",
      "metadata": {
        "id": "VoHM-Dh860C6"
      },
      "source": [
        "## Load Data and Extract Features\n",
        "\n",
        "\n"
      ]
    },
    {
      "cell_type": "code",
      "execution_count": null,
      "metadata": {
        "id": "XasJEOjN60C7"
      },
      "outputs": [],
      "source": [
        "\n",
        "data_path = '/content/drive/MyDrive/DL1/Actor_*/*.wav'\n",
        "\n",
        "def load_data():\n",
        "\n",
        "    emotions = []\n",
        "\n",
        "    waveforms = []\n",
        "    intensities, genders = [],[]\n",
        "    file_count = 0\n",
        "    for file in glob.glob(data_path):\n",
        "        file_name = os.path.basename(file)\n",
        "\n",
        "        # get emotion label from the sample's file\n",
        "        emotion = int(file_name.split(\"-\")[2])\n",
        "\n",
        "        if emotion == 8: emotion = 0 # surprise is now at 0 index; other emotion indeces unchanged\n",
        "\n",
        "        intensity = emotion_attributes[file_name.split(\"-\")[3]]\n",
        "        # even actors are female, odd are male\n",
        "        if (int((file_name.split(\"-\")[6]).split(\".\")[0]))%2==0:\n",
        "            gender = 'female'\n",
        "        else:\n",
        "            gender = 'male'\n",
        "\n",
        "        # get waveform from the sample\n",
        "        waveform = get_waveforms(file)\n",
        "\n",
        "        # store waveforms and labels\n",
        "        waveforms.append(waveform)\n",
        "        emotions.append(emotion)\n",
        "        intensities.append(intensity)\n",
        "        genders.append(gender)\n",
        "\n",
        "        file_count += 1\n",
        "\n",
        "        print('\\r'+f' Processed {file_count}/{1440} audio samples',end='')\n",
        "\n",
        "    return waveforms, emotions, intensities, genders"
      ]
    },
    {
      "cell_type": "code",
      "execution_count": null,
      "metadata": {
        "colab": {
          "base_uri": "https://localhost:8080/"
        },
        "id": "37LrPb2i60C9",
        "outputId": "2b76588e-5428-470c-b07a-bdc1b2979c25"
      },
      "outputs": [
        {
          "output_type": "stream",
          "name": "stdout",
          "text": [
            " Processed 1440/1440 audio samples"
          ]
        }
      ],
      "source": [
        "# load data\n",
        "waveforms, emotions, intensities, genders = [],[],[],[]\n",
        "waveforms, emotions, intensities, genders = load_data()"
      ]
    },
    {
      "cell_type": "markdown",
      "metadata": {
        "id": "PLBp0B-n60DB"
      },
      "source": [
        "## Check extracted audio waveforms and labels:\n"
      ]
    },
    {
      "cell_type": "code",
      "execution_count": null,
      "metadata": {
        "colab": {
          "base_uri": "https://localhost:8080/"
        },
        "id": "pjjUpfNm60DC",
        "outputId": "4575ce5a-da23-4b8d-8ddb-e70661906b33"
      },
      "outputs": [
        {
          "output_type": "stream",
          "name": "stdout",
          "text": [
            "Waveforms set: 1440 samples\n",
            "Waveform signal length: 144000\n",
            "Emotions set: 1440 sample labels\n"
          ]
        }
      ],
      "source": [
        "# Check if the waveforms list is not empty\n",
        "if waveforms:\n",
        "    print(f'Waveforms set: {len(waveforms)} samples')\n",
        "    # Print the length of the first waveform if the list is not empty\n",
        "    print(f'Waveform signal length: {len(waveforms[0])}')\n",
        "else:\n",
        "    print('Waveforms list is empty!')\n",
        "\n",
        "# Check if emotions list is not empty\n",
        "if emotions:\n",
        "    print(f'Emotions set: {len(emotions)} sample labels')\n",
        "else:\n",
        "    print('Emotions list is empty!')"
      ]
    },
    {
      "cell_type": "markdown",
      "metadata": {
        "id": "UDnnCn8HEOQq"
      },
      "source": [
        "## Split into Train/Validation/Test Sets\n",
        " 80/10/10 train/validation/test split"
      ]
    },
    {
      "cell_type": "code",
      "execution_count": null,
      "metadata": {
        "colab": {
          "base_uri": "https://localhost:8080/"
        },
        "id": "ofaAetu48YEg",
        "outputId": "eee80ece-ae81-4df9-b3fe-bdf3f79aefe1"
      },
      "outputs": [
        {
          "output_type": "stream",
          "name": "stdout",
          "text": [
            "Training waveforms:(1147, 144000), y_train:(1147,)\n",
            "Validation waveforms:(143, 144000), y_valid:(143,)\n",
            "Test waveforms:(150, 144000), y_test:(150,)\n",
            "\n",
            "Sets are unique: 1440 samples out of 1440 are unique\n"
          ]
        }
      ],
      "source": [
        "# create storage for train, validation, test sets\n",
        "train_set,valid_set,test_set = [],[],[]\n",
        "X_train,X_valid,X_test = [],[],[]\n",
        "y_train,y_valid,y_test = [],[],[]\n",
        "\n",
        "# convert waveforms to array for processing\n",
        "waveforms = np.array(waveforms)\n",
        "\n",
        "# process each emotion separately to make sure we builf balanced train/valid/test sets\n",
        "for emotion_num in range(len(emotions_dict)):\n",
        "\n",
        "    # find all indices of a single unique emotion\n",
        "    emotion_indices = [index for index, emotion in enumerate(emotions) if emotion==emotion_num]\n",
        "\n",
        "    np.random.seed(69)\n",
        "    # shuffle\n",
        "    emotion_indices = np.random.permutation(emotion_indices)\n",
        "\n",
        "    dim = len(emotion_indices)\n",
        "\n",
        "    # store indices of training, validation and test sets in 80/10/10 proportion\n",
        "    # train set is first 80%\n",
        "    train_indices = emotion_indices[:int(0.8*dim)]\n",
        "    # validation set is next 10% (between 80% and 90%)\n",
        "    valid_indices = emotion_indices[int(0.8*dim):int(0.9*dim)]\n",
        "    # test set is last 10% (between 90% - end/100%)\n",
        "    test_indices = emotion_indices[int(0.9*dim):]\n",
        "\n",
        "    # create train waveforms/labels sets\n",
        "    X_train.append(waveforms[train_indices,:])\n",
        "    y_train.append(np.array([emotion_num]*len(train_indices),dtype=np.int32))\n",
        "    # create validation waveforms/labels sets\n",
        "    X_valid.append(waveforms[valid_indices,:])\n",
        "    y_valid.append(np.array([emotion_num]*len(valid_indices),dtype=np.int32))\n",
        "    # create test waveforms/labels sets\n",
        "    X_test.append(waveforms[test_indices,:])\n",
        "    y_test.append(np.array([emotion_num]*len(test_indices),dtype=np.int32))\n",
        "\n",
        "    # store indices for each emotion set to verify uniqueness between sets\n",
        "    train_set.append(train_indices)\n",
        "    valid_set.append(valid_indices)\n",
        "    test_set.append(test_indices)\n",
        "\n",
        "# concatenate, in order, all waveforms back into one array\n",
        "X_train = np.concatenate(X_train,axis=0)\n",
        "X_valid = np.concatenate(X_valid,axis=0)\n",
        "X_test = np.concatenate(X_test,axis=0)\n",
        "\n",
        "# concatenate, in order, all emotions back into one array\n",
        "y_train = np.concatenate(y_train,axis=0)\n",
        "y_valid = np.concatenate(y_valid,axis=0)\n",
        "y_test = np.concatenate(y_test,axis=0)\n",
        "\n",
        "# combine and store indices for all emotions' train, validation, test sets to verify uniqueness of sets\n",
        "train_set = np.concatenate(train_set,axis=0)\n",
        "valid_set = np.concatenate(valid_set,axis=0)\n",
        "test_set = np.concatenate(test_set,axis=0)\n",
        "\n",
        "# check shape of each set\n",
        "print(f'Training waveforms:{X_train.shape}, y_train:{y_train.shape}')\n",
        "print(f'Validation waveforms:{X_valid.shape}, y_valid:{y_valid.shape}')\n",
        "print(f'Test waveforms:{X_test.shape}, y_test:{y_test.shape}')\n",
        "\n",
        "# make sure train, validation, test sets have no overlap/are unique\n",
        "# get all unique indices across all sets and how many times each index appears (count)\n",
        "uniques, count = np.unique(np.concatenate([train_set,test_set,valid_set],axis=0), return_counts=True)\n",
        "\n",
        "# if each index appears just once, and we have 1440 such unique indices, then all sets are unique\n",
        "if sum(count==1) == len(emotions):\n",
        "    print(f'\\nSets are unique: {sum(count==1)} samples out of {len(emotions)} are unique')\n",
        "else:\n",
        "    print(f'\\nSets are NOT unique: {sum(count==1)} samples out of {len(emotions)} are unique')"
      ]
    },
    {
      "cell_type": "markdown",
      "metadata": {
        "id": "kikSzy0MCFix"
      },
      "source": [
        "## Extract Features\n"
      ]
    },
    {
      "cell_type": "code",
      "execution_count": null,
      "metadata": {
        "colab": {
          "base_uri": "https://localhost:8080/"
        },
        "id": "OI4y4gFgCED3",
        "outputId": "7852a1a2-32ba-427a-a2e2-621b492fc320"
      },
      "outputs": [
        {
          "output_type": "stream",
          "name": "stdout",
          "text": [
            "Train waveforms:\n",
            " Processed 1147/1147 waveforms\n",
            "\n",
            "Validation waveforms:\n",
            " Processed 143/143 waveforms\n",
            "\n",
            "Test waveforms:\n",
            " Processed 150/150 waveforms\n",
            "\n",
            "Features set: 1440 total, 1147 train, 143 validation, 150 test samples\n",
            "Features (MFC coefficient matrix) shape: 40 mel frequency coefficients x 282 time steps\n"
          ]
        }
      ],
      "source": [
        "# initialize feature arrays\n",
        "# We extract MFCC features from waveforms and store in respective 'features' array\n",
        "features_train, features_valid, features_test = [],[],[]\n",
        "\n",
        "print('Train waveforms:') # get training set features\n",
        "features_train = get_features(X_train, features_train, sample_rate)\n",
        "\n",
        "print('\\n\\nValidation waveforms:') # get validation set features\n",
        "features_valid = get_features(X_valid, features_valid, sample_rate)\n",
        "\n",
        "print('\\n\\nTest waveforms:') # get test set features\n",
        "features_test = get_features(X_test, features_test, sample_rate)\n",
        "\n",
        "print(f'\\n\\nFeatures set: {len(features_train)+len(features_test)+len(features_valid)} total, {len(features_train)} train, {len(features_valid)} validation, {len(features_test)} test samples')\n",
        "print(f'Features (MFC coefficient matrix) shape: {len(features_train[0])} mel frequency coefficients x {len(features_train[0][1])} time steps')"
      ]
    },
    {
      "cell_type": "code",
      "execution_count": null,
      "metadata": {
        "id": "T6iY69E-60DG"
      },
      "outputs": [],
      "source": [
        "def awgn_augmentation(waveform, multiples=2, bits=16, snr_min=15, snr_max=30):\n",
        "\n",
        "    # get length of waveform (should be 3*48k = 144k)\n",
        "    wave_len = len(waveform)\n",
        "\n",
        "    # Generate normally distributed (Gaussian) noises\n",
        "    # one for each waveform and multiple (i.e. wave_len*multiples noises)\n",
        "    noise = np.random.normal(size=(multiples, wave_len))\n",
        "\n",
        "    # Normalize waveform and noise\n",
        "    norm_constant = 2.0**(bits-1)\n",
        "    norm_wave = waveform / norm_constant\n",
        "    norm_noise = noise / norm_constant\n",
        "\n",
        "    # Compute power of waveform and power of noise\n",
        "    signal_power = np.sum(norm_wave ** 2) / wave_len\n",
        "    noise_power = np.sum(norm_noise ** 2, axis=1) / wave_len\n",
        "\n",
        "    # Choose random SNR in decibels in range [15,30]\n",
        "    snr = np.random.randint(snr_min, snr_max)\n",
        "\n",
        "    # actual SNR = signal/noise (power)\n",
        "    # actual noise power = 10**(-snr/10)\n",
        "    covariance = np.sqrt((signal_power / noise_power) * 10 ** (- snr / 10))\n",
        "    # Get covariance matrix with dim: (144000, 2) so we can transform 2 noises: dim (2, 144000)\n",
        "    covariance = np.ones((wave_len, multiples)) * covariance\n",
        "\n",
        "    multiple_augmented_waveforms = waveform + covariance.T * noise\n",
        "\n",
        "    return multiple_augmented_waveforms"
      ]
    },
    {
      "cell_type": "code",
      "execution_count": null,
      "metadata": {
        "id": "tx-eNKa060DJ"
      },
      "outputs": [],
      "source": [
        "def augment_waveforms(waveforms, features, emotions, multiples):\n",
        "    emotion_count = 0\n",
        "    added_count = 0\n",
        "    emotions = emotions.tolist()\n",
        "\n",
        "    for waveform in waveforms:\n",
        "\n",
        "        # Generate multiples of the dataset, i.e. 1440 native + 1440*2 noisy = 4320 samples total\n",
        "        augmented_waveforms = awgn_augmentation(waveform, multiples=multiples)\n",
        "\n",
        "        # compute spectrogram for each of 2 augmented waveforms\n",
        "        for augmented_waveform in augmented_waveforms:\n",
        "\n",
        "            # Compute MFCCs over augmented waveforms\n",
        "            augmented_mfcc = feature_mfcc(augmented_waveform, sample_rate=sample_rate)\n",
        "\n",
        "            # append the augmented spectrogram to the rest of the native data\n",
        "            features.append(augmented_mfcc)\n",
        "            emotions.append(emotions[emotion_count])\n",
        "\n",
        "            # keep track of new augmented samples\n",
        "            added_count += 1\n",
        "\n",
        "            # check progress\n",
        "            print('\\r'+f'Processed {emotion_count + 1}/{len(waveforms)} waveforms for {added_count}/{len(waveforms)*multiples} new augmented samples',end='')\n",
        "\n",
        "        # keep track of the emotion labels to append in order\n",
        "        emotion_count += 1\n",
        "\n",
        "        # store augmented waveforms to check their shape\n",
        "        augmented_waveforms_temp.append(augmented_waveforms)\n",
        "\n",
        "    return features, emotions"
      ]
    },
    {
      "cell_type": "markdown",
      "metadata": {
        "id": "4GZ2CAy3F-nK"
      },
      "source": [
        "### Compute AWGN-augmented features and add to the rest of the dataset\n",
        "\n"
      ]
    },
    {
      "cell_type": "code",
      "execution_count": null,
      "metadata": {
        "colab": {
          "base_uri": "https://localhost:8080/"
        },
        "id": "05bOxnra54ia",
        "outputId": "1dde081d-8792-4fae-8f0a-185fff2f4094"
      },
      "outputs": [
        {
          "output_type": "stream",
          "name": "stdout",
          "text": [
            "Train waveforms:\n",
            "Processed 1147/1147 waveforms for 2294/2294 new augmented samples\n",
            "\n",
            "Validation waveforms:\n",
            "Processed 143/143 waveforms for 286/286 new augmented samples\n",
            "\n",
            "Test waveforms:\n",
            "Processed 150/150 waveforms for 300/300 new augmented samples\n",
            "\n",
            "Native + Augmented Features set: 4320 total, 3441 train, 429 validation, 450 test samples\n",
            "3441 training sample labels, 429 validation sample labels, 450 test sample labels\n",
            "Features (MFCC matrix) shape: 40 mel frequency coefficients x 282 time steps\n"
          ]
        }
      ],
      "source": [
        "# store augmented waveforms to verify their shape and random-ness\n",
        "augmented_waveforms_temp = []\n",
        "\n",
        "# specify multiples of our dataset to add as augmented data\n",
        "multiples = 2\n",
        "\n",
        "print('Train waveforms:') # augment waveforms of training set\n",
        "features_train , y_train = augment_waveforms(X_train, features_train, y_train, multiples)\n",
        "\n",
        "print('\\n\\nValidation waveforms:') # augment waveforms of validation set\n",
        "features_valid, y_valid = augment_waveforms(X_valid, features_valid, y_valid, multiples)\n",
        "\n",
        "print('\\n\\nTest waveforms:') # augment waveforms of test set\n",
        "features_test, y_test = augment_waveforms(X_test, features_test, y_test, multiples)\n",
        "\n",
        "# Check new shape of extracted features and data:\n",
        "print(f'\\n\\nNative + Augmented Features set: {len(features_train)+len(features_test)+len(features_valid)} total, {len(features_train)} train, {len(features_valid)} validation, {len(features_test)} test samples')\n",
        "print(f'{len(y_train)} training sample labels, {len(y_valid)} validation sample labels, {len(y_test)} test sample labels')\n",
        "print(f'Features (MFCC matrix) shape: {len(features_train[0])} mel frequency coefficients x {len(features_train[0][1])} time steps')"
      ]
    },
    {
      "cell_type": "markdown",
      "metadata": {
        "id": "pG6UTrZ160DO"
      },
      "source": [
        "### Check Augmented Waveforms:"
      ]
    },
    {
      "cell_type": "code",
      "execution_count": null,
      "metadata": {
        "id": "co938icT60DP",
        "colab": {
          "base_uri": "https://localhost:8080/",
          "height": 803
        },
        "outputId": "1069c950-22d4-4932-fe3d-6e507ecf179b"
      },
      "outputs": [
        {
          "output_type": "display_data",
          "data": {
            "text/plain": [
              "<Figure size 1500x400 with 2 Axes>"
            ],
            "image/png": "[encoded data removed]"
          },
          "metadata": {}
        },
        {
          "output_type": "display_data",
          "data": {
            "text/plain": [
              "<Figure size 1500x400 with 2 Axes>"
            ],
            "image/png": "[encoded data removed]"
          },
          "metadata": {}
        }
      ],
      "source": [
        "# pick a random waveform, but same one from native and augmented set for easier comparison\n",
        "plt.figure(figsize=(15,4))\n",
        "plt.subplot(1, 2, 1)\n",
        "librosa.display.waveshow(waveforms[12], sr=sample_rate)\n",
        "plt.title('Native')\n",
        "\n",
        "plt.subplot(1, 2, 2)\n",
        "# augmented waveforms are 2D len 1440 list with 2 waveforms in each position\n",
        "librosa.display.waveshow(augmented_waveforms_temp[0][0], sr=sample_rate)\n",
        "plt.title('AWGN Augmented')\n",
        "plt.show()\n",
        "\n",
        "plt.figure(figsize=(15,4))\n",
        "plt.subplot(1, 2, 1)\n",
        "librosa.display.waveshow(augmented_waveforms_temp[2][0], sr=sample_rate)\n",
        "plt.title('AWGN Augmented')\n",
        "\n",
        "plt.subplot(1, 2, 2)\n",
        "librosa.display.waveshow(augmented_waveforms_temp[7][0], sr=sample_rate)\n",
        "plt.title('AWGN Augmented')\n",
        "plt.show()"
      ]
    },
    {
      "cell_type": "code",
      "execution_count": null,
      "metadata": {
        "id": "PQCm9rLx60DW",
        "colab": {
          "base_uri": "https://localhost:8080/"
        },
        "outputId": "323c06f9-6be5-41d0-ce82-9b072bf1bd61"
      },
      "outputs": [
        {
          "output_type": "stream",
          "name": "stdout",
          "text": [
            "Shape of 4D feature array for input tensor: (3441, 1, 40, 282) train, (429, 1, 40, 282) validation, (450, 1, 40, 282) test\n",
            "Shape of emotion labels: (3441,) train, (429,) validation, (450,) test\n"
          ]
        }
      ],
      "source": [
        "# need to make dummy input channel for CNN input feature tensor\n",
        "X_train = np.expand_dims(features_train,1)\n",
        "X_valid = np.expand_dims(features_valid, 1)\n",
        "X_test = np.expand_dims(features_test,1)\n",
        "\n",
        "# convert emotion labels from list back to numpy arrays for PyTorch to work with\n",
        "y_train = np.array(y_train)\n",
        "y_valid = np.array(y_valid)\n",
        "y_test = np.array(y_test)\n",
        "\n",
        "# confiorm that we have tensor-ready 4D data array\n",
        "# should print (batch, channel, width, height) == (4320, 1, 128, 282) when multiples==2\n",
        "print(f'Shape of 4D feature array for input tensor: {X_train.shape} train, {X_valid.shape} validation, {X_test.shape} test')\n",
        "print(f'Shape of emotion labels: {y_train.shape} train, {y_valid.shape} validation, {y_test.shape} test')"
      ]
    },
    {
      "cell_type": "code",
      "execution_count": null,
      "metadata": {
        "id": "3mHDd2jiB9o6"
      },
      "outputs": [],
      "source": [
        "# free up some RAM\n",
        "del features_train, features_valid, features_test, waveforms, augmented_waveforms_temp"
      ]
    },
    {
      "cell_type": "code",
      "execution_count": null,
      "metadata": {
        "id": "tlOPCDUx60De",
        "colab": {
          "base_uri": "https://localhost:8080/"
        },
        "outputId": "97448989-189b-4e80-e542-8b5924df8bed"
      },
      "outputs": [
        {
          "output_type": "stream",
          "name": "stdout",
          "text": [
            "X_train scaled:(3441, 1, 40, 282), y_train:(3441,)\n",
            "X_valid scaled:(429, 1, 40, 282), y_valid:(429,)\n",
            "X_test scaled:(450, 1, 40, 282), y_test:(450,)\n"
          ]
        }
      ],
      "source": [
        "from sklearn.preprocessing import StandardScaler\n",
        "\n",
        "scaler = StandardScaler()\n",
        "\n",
        "#### Scale the training data ####\n",
        "N,C,H,W = X_train.shape\n",
        "# Reshape to 1D because StandardScaler operates on a 1D array\n",
        "# tell numpy to infer shape of 1D array with '-1' argument\n",
        "X_train = np.reshape(X_train, (N,-1))\n",
        "X_train = scaler.fit_transform(X_train)\n",
        "# Transform back to NxCxHxW 4D tensor format\n",
        "X_train = np.reshape(X_train, (N,C,H,W))\n",
        "\n",
        "##### Scale the validation set ####\n",
        "N,C,H,W = X_valid.shape\n",
        "X_valid = np.reshape(X_valid, (N,-1))\n",
        "X_valid = scaler.transform(X_valid)\n",
        "X_valid = np.reshape(X_valid, (N,C,H,W))\n",
        "\n",
        "#### Scale the test set ####\n",
        "N,C,H,W = X_test.shape\n",
        "X_test = np.reshape(X_test, (N,-1))\n",
        "X_test = scaler.transform(X_test)\n",
        "X_test = np.reshape(X_test, (N,C,H,W))\n",
        "\n",
        "# check shape of each set again\n",
        "print(f'X_train scaled:{X_train.shape}, y_train:{y_train.shape}')\n",
        "print(f'X_valid scaled:{X_valid.shape}, y_valid:{y_valid.shape}')\n",
        "print(f'X_test scaled:{X_test.shape}, y_test:{y_test.shape}')"
      ]
    },
    {
      "cell_type": "markdown",
      "metadata": {
        "id": "zvZh_Cuv7zAb"
      },
      "source": [
        "## Save and Reload Data as NumPy Arrays\n"
      ]
    },
    {
      "cell_type": "code",
      "execution_count": null,
      "metadata": {
        "id": "yx4vK5ssRIzH",
        "colab": {
          "base_uri": "https://localhost:8080/"
        },
        "outputId": "00860ef2-aa1c-4a3a-b463-707d94a1e579"
      },
      "outputs": [
        {
          "output_type": "stream",
          "name": "stdout",
          "text": [
            "Features and labels saved to features+labels.npy\n"
          ]
        }
      ],
      "source": [
        "###### SAVE #########\n",
        "# choose save file name\n",
        "filename = 'features+labels.npy'\n",
        "\n",
        "# open file in write mode and write data\n",
        "with open(filename, 'wb') as f:\n",
        "    np.save(f, X_train)\n",
        "    np.save(f, X_valid)\n",
        "    np.save(f, X_test)\n",
        "    np.save(f, y_train)\n",
        "    np.save(f, y_valid)\n",
        "    np.save(f, y_test)\n",
        "\n",
        "print(f'Features and labels saved to {filename}')"
      ]
    },
    {
      "cell_type": "code",
      "execution_count": null,
      "metadata": {
        "id": "bj46pQstRKlI",
        "colab": {
          "base_uri": "https://localhost:8080/"
        },
        "outputId": "07b3e95c-c454-4948-d236-fee258008220"
      },
      "outputs": [
        {
          "output_type": "stream",
          "name": "stdout",
          "text": [
            "X_train:(3441, 1, 40, 282), y_train:(3441,)\n",
            "X_valid:(429, 1, 40, 282), y_valid:(429,)\n",
            "X_test:(450, 1, 40, 282), y_test:(450,)\n"
          ]
        }
      ],
      "source": [
        "##### LOAD #########\n",
        "# choose load file name\n",
        "filename = 'features+labels.npy'\n",
        "\n",
        "# open file in read mode and read data\n",
        "with open(filename, 'rb') as f:\n",
        "    X_train = np.load(f)\n",
        "    X_valid = np.load(f)\n",
        "    X_test = np.load(f)\n",
        "    y_train = np.load(f)\n",
        "    y_valid = np.load(f)\n",
        "    y_test = np.load(f)\n",
        "\n",
        "# Check that we've recovered the right data\n",
        "print(f'X_train:{X_train.shape}, y_train:{y_train.shape}')\n",
        "print(f'X_valid:{X_valid.shape}, y_valid:{y_valid.shape}')\n",
        "print(f'X_test:{X_test.shape}, y_test:{y_test.shape}')"
      ]
    },
    {
      "cell_type": "markdown",
      "metadata": {
        "id": "8ZaPs9Zm60Dg"
      },
      "source": [
        "# Build Model Architecture and Define Forward Pass"
      ]
    },
    {
      "cell_type": "code",
      "execution_count": null,
      "metadata": {
        "id": "Mk7KLkLQ60Dh"
      },
      "outputs": [],
      "source": [
        "#change nn.sequential to take dict to make more readable\n",
        "\n",
        "class parallel_all_you_want(nn.Module):\n",
        "    # Define all layers present in the network\n",
        "    def __init__(self,num_emotions):\n",
        "        super().__init__()\n",
        "\n",
        "        ################ TRANSFORMER BLOCK #############################\n",
        "        self.transformer_maxpool = nn.MaxPool2d(kernel_size=[1,4], stride=[1,4])\n",
        "\n",
        "        # 4 multi-head self-attention layers each with 40-->512--->40 feedforward network\n",
        "        transformer_layer = nn.TransformerEncoderLayer(\n",
        "            d_model=40, # input feature (frequency) dim after maxpooling 40*282 -> 40*70 (MFC*time)\n",
        "            nhead=4, # 4 self-attention layers in each multi-head self-attention layer in each encoder block\n",
        "            dim_feedforward=512, # 2 linear layers in each encoder block's feedforward network: dim 40-->512--->40\n",
        "            dropout=0.4,\n",
        "            activation='relu'\n",
        "        )\n",
        "\n",
        "        # Complete transformer block contains 4 full transformer encoder layers (each w/ multihead self-attention+feedforward)\n",
        "        self.transformer_encoder = nn.TransformerEncoder(transformer_layer, num_layers=4)\n",
        "\n",
        "        ############### 1ST PARALLEL 2D CONVOLUTION BLOCK ############\n",
        "        # 3 sequential conv2D layers: (1,40,282) --> (16, 20, 141) -> (32, 5, 35) -> (64, 1, 8)\n",
        "        self.conv2Dblock1 = nn.Sequential(\n",
        "\n",
        "            # 1st 2D convolution layer\n",
        "            nn.Conv2d(\n",
        "                in_channels=1,\n",
        "                out_channels=16,\n",
        "                kernel_size=3,\n",
        "                stride=1,\n",
        "                padding=1\n",
        "                      ),\n",
        "            nn.BatchNorm2d(16), # batch normalize the output feature map before activation\n",
        "            nn.ReLU(),\n",
        "            nn.MaxPool2d(kernel_size=2, stride=2), #typical maxpool kernel size\n",
        "            nn.Dropout(p=0.3), #randomly zero 30% of 1st layer's output feature map in training\n",
        "\n",
        "            # 2nd 2D convolution layer identical to last except output dim, maxpool kernel\n",
        "            nn.Conv2d(\n",
        "                in_channels=16,\n",
        "                out_channels=32, # expand output feature map volume's depth to 32\n",
        "                kernel_size=3,\n",
        "                stride=1,\n",
        "                padding=1\n",
        "                      ),\n",
        "            nn.BatchNorm2d(32),\n",
        "            nn.ReLU(),\n",
        "            nn.MaxPool2d(kernel_size=4, stride=4), # increase maxpool kernel for subsequent filters\n",
        "            nn.Dropout(p=0.3),\n",
        "\n",
        "            # 3rd 2D convolution layer identical to last except output dim\n",
        "            nn.Conv2d(\n",
        "                in_channels=32,\n",
        "                out_channels=64, # expand output feature map volume's depth to 64\n",
        "                kernel_size=3,\n",
        "                stride=1,\n",
        "                padding=1\n",
        "                      ),\n",
        "            nn.BatchNorm2d(64),\n",
        "            nn.ReLU(),\n",
        "            nn.MaxPool2d(kernel_size=4, stride=4),\n",
        "            nn.Dropout(p=0.3),\n",
        "        )\n",
        "        ############### 2ND PARALLEL 2D CONVOLUTION BLOCK ############\n",
        "        # 3 sequential conv2D layers: (1,40,282) --> (16, 20, 141) -> (32, 5, 35) -> (64, 1, 8)\n",
        "        self.conv2Dblock2 = nn.Sequential(\n",
        "\n",
        "            # 1st 2D convolution layer\n",
        "            nn.Conv2d(\n",
        "                in_channels=1,\n",
        "                out_channels=16,\n",
        "                kernel_size=3,\n",
        "                stride=1,\n",
        "                padding=1\n",
        "                      ),\n",
        "            nn.BatchNorm2d(16), # batch normalize the output feature map before activation\n",
        "            nn.ReLU(), # feature map --> activation map\n",
        "            nn.MaxPool2d(kernel_size=2, stride=2), #typical maxpool kernel size\n",
        "            nn.Dropout(p=0.3), #randomly zero 30% of 1st layer's output feature map in training\n",
        "\n",
        "            # 2nd 2D convolution layer identical to last except output dim, maxpool kernel\n",
        "            nn.Conv2d(\n",
        "                in_channels=16,\n",
        "                out_channels=32,\n",
        "                kernel_size=3,\n",
        "                stride=1,\n",
        "                padding=1\n",
        "                      ),\n",
        "            nn.BatchNorm2d(32),\n",
        "            nn.ReLU(),\n",
        "            nn.MaxPool2d(kernel_size=4, stride=4), # increase maxpool kernel for subsequent filters\n",
        "            nn.Dropout(p=0.3),\n",
        "\n",
        "            # 3rd 2D convolution layer identical to last except output dim\n",
        "            nn.Conv2d(\n",
        "                in_channels=32,\n",
        "                out_channels=64, # expand output feature map volume's depth to 64\n",
        "                kernel_size=3,\n",
        "                stride=1,\n",
        "                padding=1\n",
        "                      ),\n",
        "            nn.BatchNorm2d(64),\n",
        "            nn.ReLU(),\n",
        "            nn.MaxPool2d(kernel_size=4, stride=4),\n",
        "            nn.Dropout(p=0.3),\n",
        "        )\n",
        "\n",
        "        ################# FINAL LINEAR BLOCK ####################\n",
        "\n",
        "        # Each full convolution block outputs (64*1*8) embedding flattened to dim 512 1D array\n",
        "        # Full transformer block outputs 40*70 feature map, which we time-avg to dim 40 1D array\n",
        "        # 512*2+40 == 1064 input features --> 8 output emotions\n",
        "        self.fc1_linear = nn.Linear(512*2+40,num_emotions)\n",
        "\n",
        "        ### Softmax layer for the 8 output logits from final FC linear layer\n",
        "        self.softmax_out = nn.Softmax(dim=1)\n",
        "\n",
        "    # define one complete parallel fwd pass of input feature tensor thru 2*conv+1*transformer blocks\n",
        "    def forward(self,x):\n",
        "\n",
        "        ############ 1st parallel Conv2D block: 4 Convolutional layers ############################\n",
        "        # create final feature embedding from 1st convolutional layer\n",
        "        # input features pased through 4 sequential 2D convolutional layers\n",
        "        conv2d_embedding1 = self.conv2Dblock1(x) # x == N/batch * channel * freq * time\n",
        "\n",
        "        # flatten final 64*1*8 feature map from convolutional layers to length 512 1D array\n",
        "        conv2d_embedding1 = torch.flatten(conv2d_embedding1, start_dim=1)\n",
        "\n",
        "        ############ 2nd parallel Conv2D block: 4 Convolutional layers #############################\n",
        "        conv2d_embedding2 = self.conv2Dblock2(x) # x == N/batch * channel * freq * time\n",
        "\n",
        "        # flatten final 64*1*8 feature map from convolutional layers to length 512 1D array\n",
        "        conv2d_embedding2 = torch.flatten(conv2d_embedding2, start_dim=1)\n",
        "\n",
        "\n",
        "        ########## 4-encoder-layer Transformer block w/ 40-->512-->40 feedfwd network ##############\n",
        "        # maxpool input feature map: 1*40*282 w/ 1*4 kernel --> 1*40*70\n",
        "        x_maxpool = self.transformer_maxpool(x)\n",
        "\n",
        "        # remove channel dim: 1*40*70 --> 40*70\n",
        "        x_maxpool_reduced = torch.squeeze(x_maxpool,1)\n",
        "\n",
        "        # convert maxpooled feature map format: batch * freq * time ---> time * batch * freq format\n",
        "        # because transformer encoder layer requires tensor in format: time * batch * embedding (freq)\n",
        "        x = x_maxpool_reduced.permute(2,0,1)\n",
        "\n",
        "        # finally, pass reduced input feature map x into transformer encoder layers\n",
        "        transformer_output = self.transformer_encoder(x)\n",
        "\n",
        "        # create final feature emedding from transformer layer by taking mean in the time dimension (now the 0th dim)\n",
        "        # transformer outputs 2x40 (MFCC embedding*time) feature map, take mean of columns i.e. take time average\n",
        "        transformer_embedding = torch.mean(transformer_output, dim=0) # dim 40x70 --> 40\n",
        "\n",
        "        ############# concatenate freq embeddings from convolutional and transformer blocks ######\n",
        "        # concatenate embedding tensors output by parallel 2*conv and 1*transformer blocks\n",
        "        complete_embedding = torch.cat([conv2d_embedding1, conv2d_embedding2,transformer_embedding], dim=1)\n",
        "\n",
        "        ######### final FC linear layer, need logits for loss #########################\n",
        "        output_logits = self.fc1_linear(complete_embedding)\n",
        "\n",
        "        ######### Final Softmax layer: use logits from FC linear, get softmax for prediction ######\n",
        "        output_softmax = self.softmax_out(output_logits)\n",
        "\n",
        "        # need output logits to compute cross entropy loss, need softmax probabilities to predict class\n",
        "        return output_logits, output_softmax"
      ]
    },
    {
      "cell_type": "markdown",
      "metadata": {
        "id": "-1fIIe6i60Dj"
      },
      "source": [
        "## Analyzing The Flow of Tensors Through the Network\n",
        "\n",
        "\n",
        "**Complete flow through each convolutional block (C,H,W):**\n",
        "\n",
        "    Layer 1 ---> 1x40x282 --> PAD-1 --> 1x42x284 --> FILTER 1x3x3 --> 16x40x282 --> MAXPOOL 2x2 stride 2 --> 16x20x141\n",
        "\n",
        "    Layer 2 ---> 16x20x141 --> PAD-1 --> 16x22x143 --> FILTER 16x3x3 --> 32x20x141 --> MAXPOOL 4x4 stride 4 --> 32x5x35\n",
        "\n",
        "    Layer 3 ---> 32x5x35 --> PAD-1 --> 32x7x37 --> FILTER 32x3x3 --> 64x5x35 --> MAXPOOL 4x4 stride 4 --> 64x1x8\n",
        "\n",
        "    Flatten ---> 64x1x8 --> Final convolutional embedding length 512 1D array\n",
        "\n",
        "\n",
        "**Complete flow through transformer encoder block (C,H,W):**\n",
        "\n",
        "    Maxpool 1x4 stride 1x4 ---> 1x40x282 --> 1x20x70\n",
        "\n",
        "    Drop channel ---> 1x20x70 --> 20x70 (H,W)\n",
        "\n",
        "    Change dims ---> 20x70 --> 70x40 (W,H)\n",
        "\n",
        "    4xTransformer encoder ---> 70x40 --> 2x40 (W,H)\n",
        "\n",
        "    Time average ---> 2x40 --> 1x40 --> Final transformer embedding length 40 1D array\n",
        "\n",
        "**FC Linear network (C,H,W):**\n",
        "\n",
        "    Concatenate ---> 512+512+40 --> 1064\n",
        "\n",
        "    FC Linear layer ---> 1064 --> Final linear logits output length 8 1D array\n",
        "\n",
        "    Softmax layer: 8 ----> 1 predicted emotion / max probability class\n",
        "\n"
      ]
    },
    {
      "cell_type": "code",
      "execution_count": null,
      "metadata": {
        "id": "LEu0842Q60Dk"
      },
      "outputs": [],
      "source": [
        "from torchsummary import summary\n",
        "\n",
        "# need device to instantiate model\n",
        "device = 'cuda'\n",
        "\n",
        "# instantiate model for 8 emotions and move to GPU\n",
        "model = parallel_all_you_want(len(emotions_dict)).to(device)\n",
        "\n",
        "\n"
      ]
    },
    {
      "cell_type": "markdown",
      "metadata": {
        "id": "GVZg7zuB60Dm"
      },
      "source": [
        "## Define Loss/Criterion\n",
        "\n"
      ]
    },
    {
      "cell_type": "code",
      "execution_count": null,
      "metadata": {
        "id": "F4IudptP60Dm"
      },
      "outputs": [],
      "source": [
        "# define loss function; CrossEntropyLoss() fairly standard for multiclass problems\n",
        "def criterion(predictions, targets):\n",
        "    return nn.CrossEntropyLoss()(input=predictions, target=targets)"
      ]
    },
    {
      "cell_type": "markdown",
      "metadata": {
        "id": "_hF-f9Sl60Do"
      },
      "source": [
        "## Choose Optimizer"
      ]
    },
    {
      "cell_type": "code",
      "execution_count": null,
      "metadata": {
        "id": "LGFjDT1i60Do"
      },
      "outputs": [],
      "source": [
        "optimizer = torch.optim.SGD(model.parameters(),lr=0.01, weight_decay=1e-3, momentum=0.8)"
      ]
    },
    {
      "cell_type": "markdown",
      "metadata": {
        "id": "Mr6Vi4Gs60Dr"
      },
      "source": [
        "## Define Training Step"
      ]
    },
    {
      "cell_type": "code",
      "execution_count": null,
      "metadata": {
        "id": "zPTbQ53_60Dr"
      },
      "outputs": [],
      "source": [
        "# define function to create a single step of the training phase\n",
        "def make_train_step(model, criterion, optimizer):\n",
        "\n",
        "    # define the training step of the training phase\n",
        "    def train_step(X,Y):\n",
        "\n",
        "        # forward pass\n",
        "        output_logits, output_softmax = model(X)\n",
        "        predictions = torch.argmax(output_softmax,dim=1)\n",
        "        accuracy = torch.sum(Y==predictions)/float(len(Y))\n",
        "\n",
        "        # compute loss on logits because nn.CrossEntropyLoss implements log softmax\n",
        "        loss = criterion(output_logits, Y)\n",
        "\n",
        "        # compute gradients for the optimizer to use\n",
        "        loss.backward()\n",
        "\n",
        "        # update network parameters based on gradient stored (by calling loss.backward())\n",
        "        optimizer.step()\n",
        "\n",
        "        # zero out gradients for next pass\n",
        "        # pytorch accumulates gradients from backwards passes (convenient for RNNs)\n",
        "        optimizer.zero_grad()\n",
        "\n",
        "        return loss.item(), accuracy*100\n",
        "    return train_step"
      ]
    },
    {
      "cell_type": "markdown",
      "metadata": {
        "id": "xInmb5vS60Dt"
      },
      "source": [
        "## Define Validation Step\n"
      ]
    },
    {
      "cell_type": "code",
      "execution_count": null,
      "metadata": {
        "id": "vcQyDxEY60Du"
      },
      "outputs": [],
      "source": [
        "def make_validate_fnc(model,criterion):\n",
        "    def validate(X,Y):\n",
        "\n",
        "        # don't want to update any network parameters on validation passes: don't need gradient\n",
        "        # wrap in torch.no_grad to save memory and compute in validation phase:\n",
        "        with torch.no_grad():\n",
        "\n",
        "            # set model to validation phase i.e. turn off dropout and batchnorm layers\n",
        "            model.eval()\n",
        "\n",
        "            # get the model's predictions on the validation set\n",
        "            output_logits, output_softmax = model(X)\n",
        "            predictions = torch.argmax(output_softmax,dim=1)\n",
        "\n",
        "            # calculate the mean accuracy over the entire validation set\n",
        "            accuracy = torch.sum(Y==predictions)/float(len(Y))\n",
        "\n",
        "            # compute error from logits (nn.crossentropy implements softmax)\n",
        "            loss = criterion(output_logits,Y)\n",
        "\n",
        "        return loss.item(), accuracy*100, predictions\n",
        "    return validate"
      ]
    },
    {
      "cell_type": "markdown",
      "metadata": {
        "id": "gQB8sZnL60Dx"
      },
      "source": [
        "# Make Checkpoint Functions\n"
      ]
    },
    {
      "cell_type": "code",
      "execution_count": null,
      "metadata": {
        "id": "rNxhD9-p60Dy"
      },
      "outputs": [],
      "source": [
        "def make_save_checkpoint():\n",
        "    def save_checkpoint(optimizer, model, epoch, filename):\n",
        "        checkpoint_dict = {\n",
        "            'optimizer': optimizer.state_dict(),\n",
        "            'model': model.state_dict(),\n",
        "            'epoch': epoch\n",
        "        }\n",
        "        torch.save(checkpoint_dict, filename)\n",
        "    return save_checkpoint\n",
        "\n",
        "def load_checkpoint(optimizer, model, filename):\n",
        "    checkpoint_dict = torch.load(filename)\n",
        "    epoch = checkpoint_dict['epoch']\n",
        "    model.load_state_dict(checkpoint_dict['model'])\n",
        "    if optimizer is not None:\n",
        "        optimizer.load_state_dict(checkpoint_dict['optimizer'])\n",
        "    return epoch"
      ]
    },
    {
      "cell_type": "markdown",
      "metadata": {
        "id": "jOiUNC0k60D3"
      },
      "source": [
        "# Build Training Loop\n"
      ]
    },
    {
      "cell_type": "code",
      "execution_count": null,
      "metadata": {
        "id": "eg7x2boi60D3",
        "colab": {
          "base_uri": "https://localhost:8080/"
        },
        "outputId": "c07c7a73-bdc7-4739-a396-42cda7ea9f48"
      },
      "outputs": [
        {
          "output_type": "stream",
          "name": "stdout",
          "text": [
            "cuda selected\n",
            "Number of trainable params:  248488\n"
          ]
        }
      ],
      "source": [
        "# get training set size to calculate # iterations and minibatch indices\n",
        "train_size = X_train.shape[0]\n",
        "\n",
        "# pick minibatch size (of 32... always)\n",
        "minibatch = 32\n",
        "\n",
        "# set device to GPU\n",
        "device = 'cuda' if torch.cuda.is_available() else 'cpu'\n",
        "print(f'{device} selected')\n",
        "\n",
        "# instantiate model and move to GPU for training\n",
        "model = parallel_all_you_want(num_emotions=len(emotions_dict)).to(device)\n",
        "print('Number of trainable params: ',sum(p.numel() for p in model.parameters()) )\n",
        "\n",
        "# encountered bugs in google colab only, unless I explicitly defined optimizer in this cell...\n",
        "optimizer = torch.optim.SGD(model.parameters(),lr=0.01, weight_decay=1e-3, momentum=0.8)\n",
        "\n",
        "# instantiate the checkpoint save function\n",
        "save_checkpoint = make_save_checkpoint()\n",
        "\n",
        "# instantiate the training step function\n",
        "train_step = make_train_step(model, criterion, optimizer=optimizer)\n",
        "\n",
        "# instantiate the validation loop function\n",
        "validate = make_validate_fnc(model,criterion)\n",
        "\n",
        "# instantiate lists to hold scalar performance metrics to plot later\n",
        "train_losses=[]\n",
        "valid_losses = []\n",
        "\n",
        "# create training loop for one complete epoch (entire training set)\n",
        "def train(optimizer, model, num_epochs, X_train, Y_train, X_valid, Y_valid):\n",
        "\n",
        "    for epoch in range(num_epochs):\n",
        "\n",
        "        # set model to train phase\n",
        "        model.train()\n",
        "\n",
        "        # shuffle entire training set in each epoch to randomize minibatch order\n",
        "        train_indices = np.random.permutation(train_size)\n",
        "\n",
        "        # shuffle the training set for each epoch:\n",
        "        X_train = X_train[train_indices,:,:,:]\n",
        "        Y_train = Y_train[train_indices]\n",
        "\n",
        "        # instantiate scalar values to keep track of progress after each epoch so we can stop training when appropriate\n",
        "        epoch_acc = 0\n",
        "        epoch_loss = 0\n",
        "        num_iterations = int(train_size / minibatch)\n",
        "\n",
        "        # create a loop for each minibatch of 32 samples:\n",
        "        for i in range(num_iterations):\n",
        "\n",
        "            # we have to track and update minibatch position for the current minibatch\n",
        "            # if we take a random batch position from a set, we almost certainly will skip some of the data in that set\n",
        "            # track minibatch position based on iteration number:\n",
        "            batch_start = i * minibatch\n",
        "            # ensure we don't go out of the bounds of our training set:\n",
        "            batch_end = min(batch_start + minibatch, train_size)\n",
        "            # ensure we don't have an index error\n",
        "            actual_batch_size = batch_end-batch_start\n",
        "\n",
        "            # get training minibatch with all channnels and 2D feature dims\n",
        "            X = X_train[batch_start:batch_end,:,:,:]\n",
        "            # get training minibatch labels\n",
        "            Y = Y_train[batch_start:batch_end]\n",
        "\n",
        "            # instantiate training tensors\n",
        "            X_tensor = torch.tensor(X, device=device).float()\n",
        "            Y_tensor = torch.tensor(Y, dtype=torch.long,device=device)\n",
        "\n",
        "            # Pass input tensors thru 1 training step (fwd+backwards pass)\n",
        "            loss, acc = train_step(X_tensor,Y_tensor)\n",
        "\n",
        "            # aggregate batch accuracy to measure progress of entire epoch\n",
        "            epoch_acc += acc * actual_batch_size / train_size\n",
        "            epoch_loss += loss * actual_batch_size / train_size\n",
        "\n",
        "            # keep track of the iteration to see if the model's too slow\n",
        "            print('\\r'+f'Epoch {epoch}: iteration {i}/{num_iterations}',end='')\n",
        "\n",
        "        # create tensors from validation set\n",
        "        X_valid_tensor = torch.tensor(X_valid,device=device).float()\n",
        "        Y_valid_tensor = torch.tensor(Y_valid,dtype=torch.long,device=device)\n",
        "\n",
        "        # calculate validation metrics to keep track of progress; don't need predictions now\n",
        "        valid_loss, valid_acc, _ = validate(X_valid_tensor,Y_valid_tensor)\n",
        "\n",
        "        # accumulate scalar performance metrics at each epoch to track and plot later\n",
        "        train_losses.append(epoch_loss)\n",
        "        valid_losses.append(valid_loss)\n",
        "\n",
        "        # Save checkpoint of the model\n",
        "        checkpoint_filename = '/content/drive/MyDrive/DL/parallel_all_you_wantFINAL-{:03d}.pkl'.format(epoch)\n",
        "        save_checkpoint(optimizer, model, epoch, checkpoint_filename)\n",
        "\n",
        "        # keep track of each epoch's progress\n",
        "        print(f'\\nEpoch {epoch} --- loss:{epoch_loss:.3f}, Epoch accuracy:{epoch_acc:.2f}%, Validation loss:{valid_loss:.3f}, Validation accuracy:{valid_acc:.2f}%')\n"
      ]
    },
    {
      "cell_type": "markdown",
      "metadata": {
        "id": "p1ZC_QW4qYGS"
      },
      "source": [
        "### Train Model"
      ]
    },
    {
      "cell_type": "code",
      "execution_count": null,
      "metadata": {
        "id": "sie3lrs3XkRf",
        "colab": {
          "base_uri": "https://localhost:8080/"
        },
        "outputId": "018eb45e-3ce3-42fc-a151-5c6fcc44760b"
      },
      "outputs": [
        {
          "output_type": "stream",
          "name": "stdout",
          "text": [
            "Epoch 0: iteration 106/107\n",
            "Epoch 0 --- loss:3.461, Epoch accuracy:24.59%, Validation loss:2.106, Validation accuracy:23.54%\n",
            "Epoch 1: iteration 106/107\n",
            "Epoch 1 --- loss:1.622, Epoch accuracy:37.87%, Validation loss:1.738, Validation accuracy:39.63%\n",
            "Epoch 2: iteration 106/107\n",
            "Epoch 2 --- loss:1.510, Epoch accuracy:42.37%, Validation loss:1.653, Validation accuracy:41.26%\n",
            "Epoch 3: iteration 106/107\n",
            "Epoch 3 --- loss:1.394, Epoch accuracy:46.73%, Validation loss:1.503, Validation accuracy:47.32%\n",
            "Epoch 4: iteration 106/107\n",
            "Epoch 4 --- loss:1.288, Epoch accuracy:50.48%, Validation loss:1.534, Validation accuracy:44.06%\n",
            "Epoch 5: iteration 106/107\n",
            "Epoch 5 --- loss:1.227, Epoch accuracy:53.71%, Validation loss:1.348, Validation accuracy:51.52%\n",
            "Epoch 6: iteration 106/107\n",
            "Epoch 6 --- loss:1.127, Epoch accuracy:58.30%, Validation loss:1.469, Validation accuracy:48.25%\n",
            "Epoch 7: iteration 106/107\n",
            "Epoch 7 --- loss:1.110, Epoch accuracy:58.33%, Validation loss:1.419, Validation accuracy:49.18%\n",
            "Epoch 8: iteration 106/107\n",
            "Epoch 8 --- loss:0.998, Epoch accuracy:62.34%, Validation loss:1.330, Validation accuracy:51.75%\n",
            "Epoch 9: iteration 106/107\n",
            "Epoch 9 --- loss:0.994, Epoch accuracy:62.63%, Validation loss:1.379, Validation accuracy:52.91%\n",
            "Epoch 10: iteration 106/107\n",
            "Epoch 10 --- loss:0.935, Epoch accuracy:65.71%, Validation loss:1.333, Validation accuracy:54.08%\n",
            "Epoch 11: iteration 106/107\n",
            "Epoch 11 --- loss:0.886, Epoch accuracy:67.45%, Validation loss:1.382, Validation accuracy:54.08%\n",
            "Epoch 12: iteration 106/107\n",
            "Epoch 12 --- loss:0.849, Epoch accuracy:67.74%, Validation loss:1.244, Validation accuracy:57.58%\n",
            "Epoch 13: iteration 106/107\n",
            "Epoch 13 --- loss:0.779, Epoch accuracy:71.29%, Validation loss:1.343, Validation accuracy:54.08%\n",
            "Epoch 14: iteration 106/107\n",
            "Epoch 14 --- loss:0.742, Epoch accuracy:72.68%, Validation loss:1.241, Validation accuracy:60.14%\n",
            "Epoch 15: iteration 106/107\n",
            "Epoch 15 --- loss:0.710, Epoch accuracy:74.11%, Validation loss:1.282, Validation accuracy:57.11%\n",
            "Epoch 16: iteration 106/107\n",
            "Epoch 16 --- loss:0.666, Epoch accuracy:74.95%, Validation loss:1.319, Validation accuracy:59.21%\n",
            "Epoch 17: iteration 106/107\n",
            "Epoch 17 --- loss:0.624, Epoch accuracy:76.58%, Validation loss:1.134, Validation accuracy:60.14%\n",
            "Epoch 18: iteration 106/107\n",
            "Epoch 18 --- loss:0.573, Epoch accuracy:78.79%, Validation loss:1.359, Validation accuracy:57.11%\n",
            "Epoch 19: iteration 106/107\n",
            "Epoch 19 --- loss:0.562, Epoch accuracy:79.69%, Validation loss:1.475, Validation accuracy:57.11%\n",
            "Epoch 20: iteration 106/107\n",
            "Epoch 20 --- loss:0.542, Epoch accuracy:79.48%, Validation loss:1.249, Validation accuracy:59.91%\n",
            "Epoch 21: iteration 106/107\n",
            "Epoch 21 --- loss:0.509, Epoch accuracy:80.50%, Validation loss:1.343, Validation accuracy:56.18%\n",
            "Epoch 22: iteration 106/107\n",
            "Epoch 22 --- loss:0.493, Epoch accuracy:82.45%, Validation loss:1.272, Validation accuracy:57.34%\n",
            "Epoch 23: iteration 106/107\n",
            "Epoch 23 --- loss:0.455, Epoch accuracy:82.13%, Validation loss:1.433, Validation accuracy:54.78%\n",
            "Epoch 24: iteration 106/107\n",
            "Epoch 24 --- loss:0.426, Epoch accuracy:84.13%, Validation loss:1.456, Validation accuracy:58.28%\n",
            "Epoch 25: iteration 106/107\n",
            "Epoch 25 --- loss:0.401, Epoch accuracy:85.06%, Validation loss:1.401, Validation accuracy:56.41%\n",
            "Epoch 26: iteration 106/107\n",
            "Epoch 26 --- loss:0.402, Epoch accuracy:84.57%, Validation loss:1.378, Validation accuracy:60.37%\n",
            "Epoch 27: iteration 106/107\n",
            "Epoch 27 --- loss:0.371, Epoch accuracy:85.93%, Validation loss:1.367, Validation accuracy:55.01%\n",
            "Epoch 28: iteration 106/107\n",
            "Epoch 28 --- loss:0.345, Epoch accuracy:87.04%, Validation loss:1.416, Validation accuracy:58.04%\n",
            "Epoch 29: iteration 106/107\n",
            "Epoch 29 --- loss:0.329, Epoch accuracy:87.85%, Validation loss:1.747, Validation accuracy:53.85%\n",
            "Epoch 30: iteration 106/107\n",
            "Epoch 30 --- loss:0.306, Epoch accuracy:88.90%, Validation loss:1.486, Validation accuracy:58.97%\n",
            "Epoch 31: iteration 106/107\n",
            "Epoch 31 --- loss:0.318, Epoch accuracy:87.77%, Validation loss:1.415, Validation accuracy:59.44%\n",
            "Epoch 32: iteration 106/107\n",
            "Epoch 32 --- loss:0.274, Epoch accuracy:90.64%, Validation loss:1.600, Validation accuracy:58.28%\n",
            "Epoch 33: iteration 106/107\n",
            "Epoch 33 --- loss:0.279, Epoch accuracy:90.15%, Validation loss:1.619, Validation accuracy:56.88%\n",
            "Epoch 34: iteration 106/107\n",
            "Epoch 34 --- loss:0.279, Epoch accuracy:89.45%, Validation loss:1.549, Validation accuracy:62.00%\n",
            "Epoch 35: iteration 106/107\n",
            "Epoch 35 --- loss:0.265, Epoch accuracy:90.35%, Validation loss:1.647, Validation accuracy:57.81%\n",
            "Epoch 36: iteration 106/107\n",
            "Epoch 36 --- loss:0.235, Epoch accuracy:91.54%, Validation loss:1.581, Validation accuracy:59.44%\n",
            "Epoch 37: iteration 106/107\n",
            "Epoch 37 --- loss:0.237, Epoch accuracy:91.49%, Validation loss:1.600, Validation accuracy:58.04%\n",
            "Epoch 38: iteration 106/107\n",
            "Epoch 38 --- loss:0.250, Epoch accuracy:90.47%, Validation loss:1.620, Validation accuracy:58.74%\n",
            "Epoch 39: iteration 106/107\n",
            "Epoch 39 --- loss:0.223, Epoch accuracy:91.83%, Validation loss:1.595, Validation accuracy:59.44%\n",
            "Epoch 40: iteration 106/107\n",
            "Epoch 40 --- loss:0.211, Epoch accuracy:92.79%, Validation loss:1.540, Validation accuracy:59.91%\n",
            "Epoch 41: iteration 106/107\n",
            "Epoch 41 --- loss:0.212, Epoch accuracy:92.62%, Validation loss:1.485, Validation accuracy:61.31%\n",
            "Epoch 42: iteration 106/107\n",
            "Epoch 42 --- loss:0.189, Epoch accuracy:93.11%, Validation loss:1.563, Validation accuracy:58.51%\n",
            "Epoch 43: iteration 106/107\n",
            "Epoch 43 --- loss:0.194, Epoch accuracy:92.15%, Validation loss:1.698, Validation accuracy:58.04%\n",
            "Epoch 44: iteration 106/107\n",
            "Epoch 44 --- loss:0.184, Epoch accuracy:93.14%, Validation loss:1.652, Validation accuracy:58.97%\n",
            "Epoch 45: iteration 106/107\n",
            "Epoch 45 --- loss:0.185, Epoch accuracy:93.29%, Validation loss:1.682, Validation accuracy:61.31%\n",
            "Epoch 46: iteration 106/107\n",
            "Epoch 46 --- loss:0.198, Epoch accuracy:92.68%, Validation loss:1.708, Validation accuracy:56.41%\n",
            "Epoch 47: iteration 106/107\n",
            "Epoch 47 --- loss:0.157, Epoch accuracy:94.62%, Validation loss:1.644, Validation accuracy:60.14%\n",
            "Epoch 48: iteration 106/107\n",
            "Epoch 48 --- loss:0.154, Epoch accuracy:94.57%, Validation loss:1.587, Validation accuracy:60.14%\n",
            "Epoch 49: iteration 106/107\n",
            "Epoch 49 --- loss:0.163, Epoch accuracy:93.78%, Validation loss:1.877, Validation accuracy:56.88%\n",
            "Epoch 50: iteration 106/107\n",
            "Epoch 50 --- loss:0.186, Epoch accuracy:93.32%, Validation loss:1.606, Validation accuracy:58.51%\n",
            "Epoch 51: iteration 106/107\n",
            "Epoch 51 --- loss:0.152, Epoch accuracy:94.22%, Validation loss:1.584, Validation accuracy:61.54%\n",
            "Epoch 52: iteration 106/107\n",
            "Epoch 52 --- loss:0.135, Epoch accuracy:95.38%, Validation loss:1.658, Validation accuracy:63.40%\n",
            "Epoch 53: iteration 106/107\n",
            "Epoch 53 --- loss:0.146, Epoch accuracy:94.86%, Validation loss:1.856, Validation accuracy:57.81%\n",
            "Epoch 54: iteration 106/107\n",
            "Epoch 54 --- loss:0.135, Epoch accuracy:94.97%, Validation loss:1.711, Validation accuracy:60.37%\n",
            "Epoch 55: iteration 106/107\n",
            "Epoch 55 --- loss:0.123, Epoch accuracy:95.61%, Validation loss:1.801, Validation accuracy:59.67%\n",
            "Epoch 56: iteration 106/107\n",
            "Epoch 56 --- loss:0.135, Epoch accuracy:94.97%, Validation loss:1.708, Validation accuracy:63.17%\n",
            "Epoch 57: iteration 106/107\n",
            "Epoch 57 --- loss:0.129, Epoch accuracy:95.38%, Validation loss:1.806, Validation accuracy:59.21%\n",
            "Epoch 58: iteration 106/107\n",
            "Epoch 58 --- loss:0.135, Epoch accuracy:95.23%, Validation loss:1.767, Validation accuracy:59.44%\n",
            "Epoch 59: iteration 106/107\n",
            "Epoch 59 --- loss:0.114, Epoch accuracy:95.87%, Validation loss:1.777, Validation accuracy:58.74%\n",
            "Epoch 60: iteration 106/107\n",
            "Epoch 60 --- loss:0.115, Epoch accuracy:95.99%, Validation loss:1.771, Validation accuracy:61.07%\n",
            "Epoch 61: iteration 106/107\n",
            "Epoch 61 --- loss:0.113, Epoch accuracy:96.11%, Validation loss:1.923, Validation accuracy:58.74%\n",
            "Epoch 62: iteration 106/107\n",
            "Epoch 62 --- loss:0.106, Epoch accuracy:96.66%, Validation loss:1.858, Validation accuracy:61.77%\n",
            "Epoch 63: iteration 106/107\n",
            "Epoch 63 --- loss:0.106, Epoch accuracy:96.05%, Validation loss:1.691, Validation accuracy:61.77%\n",
            "Epoch 64: iteration 106/107\n",
            "Epoch 64 --- loss:0.101, Epoch accuracy:96.37%, Validation loss:1.843, Validation accuracy:60.14%\n",
            "Epoch 65: iteration 106/107\n",
            "Epoch 65 --- loss:0.110, Epoch accuracy:95.76%, Validation loss:1.826, Validation accuracy:59.67%\n",
            "Epoch 66: iteration 106/107\n",
            "Epoch 66 --- loss:0.094, Epoch accuracy:96.83%, Validation loss:1.960, Validation accuracy:58.51%\n",
            "Epoch 67: iteration 106/107\n",
            "Epoch 67 --- loss:0.091, Epoch accuracy:96.63%, Validation loss:1.801, Validation accuracy:61.31%\n",
            "Epoch 68: iteration 106/107\n",
            "Epoch 68 --- loss:0.097, Epoch accuracy:96.37%, Validation loss:1.863, Validation accuracy:62.00%\n",
            "Epoch 69: iteration 106/107\n",
            "Epoch 69 --- loss:0.106, Epoch accuracy:96.31%, Validation loss:1.765, Validation accuracy:62.70%\n",
            "Epoch 70: iteration 106/107\n",
            "Epoch 70 --- loss:0.090, Epoch accuracy:97.09%, Validation loss:1.961, Validation accuracy:58.51%\n",
            "Epoch 71: iteration 106/107\n",
            "Epoch 71 --- loss:0.067, Epoch accuracy:97.82%, Validation loss:2.213, Validation accuracy:56.41%\n",
            "Epoch 72: iteration 106/107\n",
            "Epoch 72 --- loss:0.082, Epoch accuracy:97.24%, Validation loss:1.977, Validation accuracy:58.51%\n",
            "Epoch 73: iteration 106/107\n",
            "Epoch 73 --- loss:0.084, Epoch accuracy:96.77%, Validation loss:2.012, Validation accuracy:58.51%\n",
            "Epoch 74: iteration 106/107\n",
            "Epoch 74 --- loss:0.074, Epoch accuracy:97.56%, Validation loss:1.949, Validation accuracy:60.37%\n",
            "Epoch 75: iteration 106/107\n",
            "Epoch 75 --- loss:0.078, Epoch accuracy:97.41%, Validation loss:2.191, Validation accuracy:55.94%\n",
            "Epoch 76: iteration 106/107\n",
            "Epoch 76 --- loss:0.073, Epoch accuracy:97.30%, Validation loss:1.946, Validation accuracy:58.74%\n",
            "Epoch 77: iteration 106/107\n",
            "Epoch 77 --- loss:0.079, Epoch accuracy:97.09%, Validation loss:2.066, Validation accuracy:58.97%\n",
            "Epoch 78: iteration 106/107\n",
            "Epoch 78 --- loss:0.093, Epoch accuracy:96.45%, Validation loss:1.869, Validation accuracy:58.97%\n",
            "Epoch 79: iteration 106/107\n",
            "Epoch 79 --- loss:0.073, Epoch accuracy:97.73%, Validation loss:1.941, Validation accuracy:61.54%\n",
            "Epoch 80: iteration 106/107\n",
            "Epoch 80 --- loss:0.078, Epoch accuracy:97.33%, Validation loss:2.009, Validation accuracy:60.61%\n",
            "Epoch 81: iteration 106/107\n",
            "Epoch 81 --- loss:0.074, Epoch accuracy:97.53%, Validation loss:1.994, Validation accuracy:59.67%\n",
            "Epoch 82: iteration 106/107\n",
            "Epoch 82 --- loss:0.067, Epoch accuracy:97.68%, Validation loss:2.056, Validation accuracy:58.51%\n",
            "Epoch 83: iteration 106/107\n",
            "Epoch 83 --- loss:0.089, Epoch accuracy:97.01%, Validation loss:1.908, Validation accuracy:62.00%\n",
            "Epoch 84: iteration 106/107\n",
            "Epoch 84 --- loss:0.061, Epoch accuracy:97.94%, Validation loss:2.064, Validation accuracy:58.97%\n",
            "Epoch 85: iteration 106/107\n",
            "Epoch 85 --- loss:0.052, Epoch accuracy:98.43%, Validation loss:1.991, Validation accuracy:59.67%\n",
            "Epoch 86: iteration 106/107\n",
            "Epoch 86 --- loss:0.055, Epoch accuracy:98.11%, Validation loss:2.040, Validation accuracy:58.28%\n",
            "Epoch 87: iteration 106/107\n",
            "Epoch 87 --- loss:0.068, Epoch accuracy:97.59%, Validation loss:2.019, Validation accuracy:59.44%\n",
            "Epoch 88: iteration 106/107\n",
            "Epoch 88 --- loss:0.068, Epoch accuracy:97.88%, Validation loss:2.158, Validation accuracy:58.74%\n",
            "Epoch 89: iteration 106/107\n",
            "Epoch 89 --- loss:0.070, Epoch accuracy:97.44%, Validation loss:1.964, Validation accuracy:58.51%\n",
            "Epoch 90: iteration 106/107\n",
            "Epoch 90 --- loss:0.073, Epoch accuracy:97.44%, Validation loss:2.030, Validation accuracy:58.97%\n",
            "Epoch 91: iteration 106/107\n",
            "Epoch 91 --- loss:0.052, Epoch accuracy:98.23%, Validation loss:1.974, Validation accuracy:58.04%\n",
            "Epoch 92: iteration 106/107\n",
            "Epoch 92 --- loss:0.062, Epoch accuracy:97.88%, Validation loss:1.948, Validation accuracy:61.54%\n",
            "Epoch 93: iteration 106/107\n",
            "Epoch 93 --- loss:0.081, Epoch accuracy:97.15%, Validation loss:2.213, Validation accuracy:58.28%\n",
            "Epoch 94: iteration 106/107\n",
            "Epoch 94 --- loss:0.070, Epoch accuracy:97.47%, Validation loss:2.034, Validation accuracy:57.11%\n",
            "Epoch 95: iteration 106/107\n",
            "Epoch 95 --- loss:0.069, Epoch accuracy:97.59%, Validation loss:1.912, Validation accuracy:58.51%\n",
            "Epoch 96: iteration 106/107\n",
            "Epoch 96 --- loss:0.068, Epoch accuracy:97.53%, Validation loss:2.155, Validation accuracy:55.48%\n",
            "Epoch 97: iteration 106/107\n",
            "Epoch 97 --- loss:0.066, Epoch accuracy:97.99%, Validation loss:2.171, Validation accuracy:56.88%\n",
            "Epoch 98: iteration 106/107\n",
            "Epoch 98 --- loss:0.050, Epoch accuracy:98.29%, Validation loss:2.032, Validation accuracy:60.14%\n",
            "Epoch 99: iteration 106/107\n",
            "Epoch 99 --- loss:0.058, Epoch accuracy:97.65%, Validation loss:2.163, Validation accuracy:58.04%\n",
            "Epoch 100: iteration 106/107\n",
            "Epoch 100 --- loss:0.049, Epoch accuracy:98.29%, Validation loss:2.059, Validation accuracy:57.81%\n",
            "Epoch 101: iteration 106/107\n",
            "Epoch 101 --- loss:0.047, Epoch accuracy:98.34%, Validation loss:2.210, Validation accuracy:57.34%\n",
            "Epoch 102: iteration 106/107\n",
            "Epoch 102 --- loss:0.048, Epoch accuracy:98.40%, Validation loss:2.239, Validation accuracy:58.51%\n",
            "Epoch 103: iteration 106/107\n",
            "Epoch 103 --- loss:0.050, Epoch accuracy:98.08%, Validation loss:2.023, Validation accuracy:58.51%\n",
            "Epoch 104: iteration 106/107\n",
            "Epoch 104 --- loss:0.043, Epoch accuracy:98.55%, Validation loss:2.099, Validation accuracy:57.34%\n",
            "Epoch 105: iteration 106/107\n",
            "Epoch 105 --- loss:0.051, Epoch accuracy:98.23%, Validation loss:2.173, Validation accuracy:59.44%\n",
            "Epoch 106: iteration 106/107\n",
            "Epoch 106 --- loss:0.051, Epoch accuracy:98.14%, Validation loss:1.989, Validation accuracy:58.28%\n",
            "Epoch 107: iteration 106/107\n",
            "Epoch 107 --- loss:0.048, Epoch accuracy:98.34%, Validation loss:2.089, Validation accuracy:59.91%\n",
            "Epoch 108: iteration 106/107\n",
            "Epoch 108 --- loss:0.056, Epoch accuracy:97.97%, Validation loss:1.938, Validation accuracy:62.94%\n",
            "Epoch 109: iteration 106/107\n",
            "Epoch 109 --- loss:0.072, Epoch accuracy:97.33%, Validation loss:1.981, Validation accuracy:62.24%\n",
            "Epoch 110: iteration 106/107\n",
            "Epoch 110 --- loss:0.052, Epoch accuracy:98.14%, Validation loss:2.029, Validation accuracy:59.44%\n",
            "Epoch 111: iteration 106/107\n",
            "Epoch 111 --- loss:0.046, Epoch accuracy:98.55%, Validation loss:2.166, Validation accuracy:56.41%\n",
            "Epoch 112: iteration 106/107\n",
            "Epoch 112 --- loss:0.043, Epoch accuracy:98.63%, Validation loss:2.069, Validation accuracy:60.61%\n",
            "Epoch 113: iteration 106/107\n",
            "Epoch 113 --- loss:0.047, Epoch accuracy:98.34%, Validation loss:2.085, Validation accuracy:62.70%\n",
            "Epoch 114: iteration 106/107\n",
            "Epoch 114 --- loss:0.051, Epoch accuracy:98.23%, Validation loss:2.101, Validation accuracy:60.14%\n",
            "Epoch 115: iteration 106/107\n",
            "Epoch 115 --- loss:0.043, Epoch accuracy:98.49%, Validation loss:2.195, Validation accuracy:59.44%\n",
            "Epoch 116: iteration 106/107\n",
            "Epoch 116 --- loss:0.056, Epoch accuracy:98.11%, Validation loss:2.064, Validation accuracy:60.61%\n",
            "Epoch 117: iteration 106/107\n",
            "Epoch 117 --- loss:0.040, Epoch accuracy:98.63%, Validation loss:2.264, Validation accuracy:58.74%\n",
            "Epoch 118: iteration 106/107\n",
            "Epoch 118 --- loss:0.039, Epoch accuracy:98.58%, Validation loss:2.163, Validation accuracy:60.61%\n",
            "Epoch 119: iteration 106/107\n",
            "Epoch 119 --- loss:0.065, Epoch accuracy:97.85%, Validation loss:2.202, Validation accuracy:59.44%\n",
            "Epoch 120: iteration 106/107\n",
            "Epoch 120 --- loss:0.057, Epoch accuracy:97.73%, Validation loss:2.269, Validation accuracy:58.51%\n",
            "Epoch 121: iteration 106/107\n",
            "Epoch 121 --- loss:0.058, Epoch accuracy:97.88%, Validation loss:1.932, Validation accuracy:63.17%\n",
            "Epoch 122: iteration 106/107\n",
            "Epoch 122 --- loss:0.053, Epoch accuracy:98.08%, Validation loss:2.037, Validation accuracy:59.21%\n",
            "Epoch 123: iteration 106/107\n",
            "Epoch 123 --- loss:0.042, Epoch accuracy:98.78%, Validation loss:2.232, Validation accuracy:56.88%\n",
            "Epoch 124: iteration 106/107\n",
            "Epoch 124 --- loss:0.050, Epoch accuracy:97.97%, Validation loss:2.150, Validation accuracy:57.11%\n",
            "Epoch 125: iteration 106/107\n",
            "Epoch 125 --- loss:0.052, Epoch accuracy:98.23%, Validation loss:2.254, Validation accuracy:58.04%\n",
            "Epoch 126: iteration 106/107\n",
            "Epoch 126 --- loss:0.042, Epoch accuracy:98.49%, Validation loss:2.101, Validation accuracy:59.21%\n",
            "Epoch 127: iteration 106/107\n",
            "Epoch 127 --- loss:0.043, Epoch accuracy:98.49%, Validation loss:2.327, Validation accuracy:58.04%\n",
            "Epoch 128: iteration 106/107\n",
            "Epoch 128 --- loss:0.038, Epoch accuracy:98.75%, Validation loss:2.154, Validation accuracy:61.07%\n",
            "Epoch 129: iteration 106/107\n",
            "Epoch 129 --- loss:0.054, Epoch accuracy:97.91%, Validation loss:2.068, Validation accuracy:60.61%\n",
            "Epoch 130: iteration 106/107\n",
            "Epoch 130 --- loss:0.055, Epoch accuracy:97.76%, Validation loss:2.079, Validation accuracy:59.21%\n",
            "Epoch 131: iteration 106/107\n",
            "Epoch 131 --- loss:0.065, Epoch accuracy:97.76%, Validation loss:2.332, Validation accuracy:55.94%\n",
            "Epoch 132: iteration 106/107\n",
            "Epoch 132 --- loss:0.051, Epoch accuracy:98.02%, Validation loss:2.161, Validation accuracy:59.67%\n",
            "Epoch 133: iteration 106/107\n",
            "Epoch 133 --- loss:0.043, Epoch accuracy:98.58%, Validation loss:2.153, Validation accuracy:59.21%\n",
            "Epoch 134: iteration 106/107\n",
            "Epoch 134 --- loss:0.046, Epoch accuracy:98.46%, Validation loss:2.112, Validation accuracy:59.67%\n",
            "Epoch 135: iteration 106/107\n",
            "Epoch 135 --- loss:0.040, Epoch accuracy:98.52%, Validation loss:2.385, Validation accuracy:57.58%\n",
            "Epoch 136: iteration 106/107\n",
            "Epoch 136 --- loss:0.047, Epoch accuracy:98.17%, Validation loss:2.163, Validation accuracy:61.77%\n",
            "Epoch 137: iteration 106/107\n",
            "Epoch 137 --- loss:0.045, Epoch accuracy:98.46%, Validation loss:2.161, Validation accuracy:59.67%\n",
            "Epoch 138: iteration 106/107\n",
            "Epoch 138 --- loss:0.034, Epoch accuracy:98.84%, Validation loss:2.147, Validation accuracy:59.67%\n",
            "Epoch 139: iteration 106/107\n",
            "Epoch 139 --- loss:0.069, Epoch accuracy:97.12%, Validation loss:2.204, Validation accuracy:61.07%\n",
            "Epoch 140: iteration 106/107\n",
            "Epoch 140 --- loss:0.054, Epoch accuracy:98.11%, Validation loss:2.170, Validation accuracy:58.97%\n",
            "Epoch 141: iteration 106/107\n",
            "Epoch 141 --- loss:0.046, Epoch accuracy:98.49%, Validation loss:2.059, Validation accuracy:56.41%\n",
            "Epoch 142: iteration 106/107\n",
            "Epoch 142 --- loss:0.037, Epoch accuracy:98.75%, Validation loss:2.033, Validation accuracy:58.97%\n",
            "Epoch 143: iteration 106/107\n",
            "Epoch 143 --- loss:0.035, Epoch accuracy:98.58%, Validation loss:2.245, Validation accuracy:60.14%\n",
            "Epoch 144: iteration 106/107\n",
            "Epoch 144 --- loss:0.034, Epoch accuracy:98.72%, Validation loss:2.039, Validation accuracy:60.84%\n",
            "Epoch 145: iteration 106/107\n",
            "Epoch 145 --- loss:0.038, Epoch accuracy:98.69%, Validation loss:2.043, Validation accuracy:60.61%\n",
            "Epoch 146: iteration 106/107\n",
            "Epoch 146 --- loss:0.036, Epoch accuracy:98.63%, Validation loss:2.199, Validation accuracy:58.97%\n",
            "Epoch 147: iteration 106/107\n",
            "Epoch 147 --- loss:0.035, Epoch accuracy:98.72%, Validation loss:2.213, Validation accuracy:61.07%\n",
            "Epoch 148: iteration 106/107\n",
            "Epoch 148 --- loss:0.036, Epoch accuracy:98.55%, Validation loss:2.157, Validation accuracy:61.31%\n",
            "Epoch 149: iteration 106/107\n",
            "Epoch 149 --- loss:0.038, Epoch accuracy:98.61%, Validation loss:2.025, Validation accuracy:62.70%\n",
            "Epoch 150: iteration 106/107\n",
            "Epoch 150 --- loss:0.040, Epoch accuracy:98.61%, Validation loss:2.174, Validation accuracy:58.04%\n",
            "Epoch 151: iteration 106/107\n",
            "Epoch 151 --- loss:0.043, Epoch accuracy:98.52%, Validation loss:2.042, Validation accuracy:61.07%\n",
            "Epoch 152: iteration 106/107\n",
            "Epoch 152 --- loss:0.032, Epoch accuracy:98.92%, Validation loss:2.058, Validation accuracy:59.67%\n",
            "Epoch 153: iteration 106/107\n",
            "Epoch 153 --- loss:0.035, Epoch accuracy:98.69%, Validation loss:2.135, Validation accuracy:62.00%\n",
            "Epoch 154: iteration 106/107\n",
            "Epoch 154 --- loss:0.034, Epoch accuracy:98.90%, Validation loss:2.110, Validation accuracy:59.44%\n",
            "Epoch 155: iteration 106/107\n",
            "Epoch 155 --- loss:0.041, Epoch accuracy:98.34%, Validation loss:2.104, Validation accuracy:58.51%\n",
            "Epoch 156: iteration 106/107\n",
            "Epoch 156 --- loss:0.046, Epoch accuracy:98.29%, Validation loss:2.165, Validation accuracy:60.61%\n",
            "Epoch 157: iteration 106/107\n",
            "Epoch 157 --- loss:0.041, Epoch accuracy:98.52%, Validation loss:2.125, Validation accuracy:57.11%\n",
            "Epoch 158: iteration 106/107\n",
            "Epoch 158 --- loss:0.037, Epoch accuracy:98.66%, Validation loss:2.219, Validation accuracy:57.34%\n",
            "Epoch 159: iteration 106/107\n",
            "Epoch 159 --- loss:0.038, Epoch accuracy:98.66%, Validation loss:2.067, Validation accuracy:61.54%\n",
            "Epoch 160: iteration 106/107\n",
            "Epoch 160 --- loss:0.035, Epoch accuracy:98.69%, Validation loss:2.029, Validation accuracy:61.54%\n",
            "Epoch 161: iteration 106/107\n",
            "Epoch 161 --- loss:0.042, Epoch accuracy:98.55%, Validation loss:2.546, Validation accuracy:56.88%\n",
            "Epoch 162: iteration 106/107\n",
            "Epoch 162 --- loss:0.061, Epoch accuracy:97.79%, Validation loss:2.274, Validation accuracy:58.51%\n",
            "Epoch 163: iteration 106/107\n",
            "Epoch 163 --- loss:0.059, Epoch accuracy:97.76%, Validation loss:2.232, Validation accuracy:59.44%\n",
            "Epoch 164: iteration 106/107\n",
            "Epoch 164 --- loss:0.046, Epoch accuracy:98.43%, Validation loss:2.143, Validation accuracy:56.41%\n",
            "Epoch 165: iteration 106/107\n",
            "Epoch 165 --- loss:0.031, Epoch accuracy:99.07%, Validation loss:2.201, Validation accuracy:58.97%\n",
            "Epoch 166: iteration 106/107\n",
            "Epoch 166 --- loss:0.045, Epoch accuracy:98.43%, Validation loss:2.238, Validation accuracy:58.74%\n",
            "Epoch 167: iteration 106/107\n",
            "Epoch 167 --- loss:0.035, Epoch accuracy:98.92%, Validation loss:2.065, Validation accuracy:61.07%\n",
            "Epoch 168: iteration 106/107\n",
            "Epoch 168 --- loss:0.035, Epoch accuracy:98.66%, Validation loss:2.355, Validation accuracy:59.44%\n",
            "Epoch 169: iteration 106/107\n",
            "Epoch 169 --- loss:0.061, Epoch accuracy:97.68%, Validation loss:2.349, Validation accuracy:58.28%\n",
            "Epoch 170: iteration 106/107\n",
            "Epoch 170 --- loss:0.039, Epoch accuracy:98.66%, Validation loss:2.268, Validation accuracy:60.61%\n",
            "Epoch 171: iteration 106/107\n",
            "Epoch 171 --- loss:0.071, Epoch accuracy:97.27%, Validation loss:2.383, Validation accuracy:58.04%\n",
            "Epoch 172: iteration 106/107\n",
            "Epoch 172 --- loss:0.056, Epoch accuracy:97.91%, Validation loss:2.247, Validation accuracy:58.97%\n",
            "Epoch 173: iteration 106/107\n",
            "Epoch 173 --- loss:0.047, Epoch accuracy:98.17%, Validation loss:2.075, Validation accuracy:58.74%\n",
            "Epoch 174: iteration 106/107\n",
            "Epoch 174 --- loss:0.065, Epoch accuracy:97.38%, Validation loss:1.989, Validation accuracy:61.07%\n",
            "Epoch 175: iteration 106/107\n",
            "Epoch 175 --- loss:0.046, Epoch accuracy:98.23%, Validation loss:2.123, Validation accuracy:61.07%\n",
            "Epoch 176: iteration 106/107\n",
            "Epoch 176 --- loss:0.030, Epoch accuracy:98.92%, Validation loss:2.143, Validation accuracy:58.04%\n",
            "Epoch 177: iteration 106/107\n",
            "Epoch 177 --- loss:0.037, Epoch accuracy:98.52%, Validation loss:2.047, Validation accuracy:62.24%\n",
            "Epoch 178: iteration 106/107\n",
            "Epoch 178 --- loss:0.041, Epoch accuracy:98.43%, Validation loss:2.365, Validation accuracy:60.14%\n",
            "Epoch 179: iteration 106/107\n",
            "Epoch 179 --- loss:0.042, Epoch accuracy:98.46%, Validation loss:2.227, Validation accuracy:59.21%\n",
            "Epoch 180: iteration 106/107\n",
            "Epoch 180 --- loss:0.025, Epoch accuracy:99.04%, Validation loss:2.477, Validation accuracy:59.21%\n",
            "Epoch 181: iteration 106/107\n",
            "Epoch 181 --- loss:0.053, Epoch accuracy:98.11%, Validation loss:2.269, Validation accuracy:58.97%\n",
            "Epoch 182: iteration 106/107\n",
            "Epoch 182 --- loss:0.080, Epoch accuracy:97.24%, Validation loss:2.315, Validation accuracy:58.74%\n",
            "Epoch 183: iteration 106/107\n",
            "Epoch 183 --- loss:0.038, Epoch accuracy:98.66%, Validation loss:2.293, Validation accuracy:60.14%\n",
            "Epoch 184: iteration 106/107\n",
            "Epoch 184 --- loss:0.030, Epoch accuracy:99.01%, Validation loss:2.036, Validation accuracy:60.61%\n",
            "Epoch 185: iteration 106/107\n",
            "Epoch 185 --- loss:0.022, Epoch accuracy:99.30%, Validation loss:2.019, Validation accuracy:59.44%\n",
            "Epoch 186: iteration 106/107\n",
            "Epoch 186 --- loss:0.033, Epoch accuracy:98.58%, Validation loss:2.309, Validation accuracy:60.37%\n",
            "Epoch 187: iteration 106/107\n",
            "Epoch 187 --- loss:0.044, Epoch accuracy:98.40%, Validation loss:2.269, Validation accuracy:61.07%\n",
            "Epoch 188: iteration 106/107\n",
            "Epoch 188 --- loss:0.047, Epoch accuracy:98.14%, Validation loss:2.070, Validation accuracy:63.40%\n",
            "Epoch 189: iteration 106/107\n",
            "Epoch 189 --- loss:0.026, Epoch accuracy:99.10%, Validation loss:2.150, Validation accuracy:58.74%\n",
            "Epoch 190: iteration 106/107\n",
            "Epoch 190 --- loss:0.025, Epoch accuracy:99.24%, Validation loss:2.145, Validation accuracy:58.97%\n",
            "Epoch 191: iteration 106/107\n",
            "Epoch 191 --- loss:0.033, Epoch accuracy:98.84%, Validation loss:2.374, Validation accuracy:60.14%\n",
            "Epoch 192: iteration 106/107\n",
            "Epoch 192 --- loss:0.035, Epoch accuracy:98.66%, Validation loss:2.213, Validation accuracy:60.61%\n",
            "Epoch 193: iteration 106/107\n",
            "Epoch 193 --- loss:0.030, Epoch accuracy:98.87%, Validation loss:2.401, Validation accuracy:58.28%\n",
            "Epoch 194: iteration 106/107\n",
            "Epoch 194 --- loss:0.035, Epoch accuracy:98.66%, Validation loss:2.285, Validation accuracy:58.97%\n",
            "Epoch 195: iteration 106/107\n",
            "Epoch 195 --- loss:0.031, Epoch accuracy:98.84%, Validation loss:2.371, Validation accuracy:58.28%\n",
            "Epoch 196: iteration 106/107\n",
            "Epoch 196 --- loss:0.026, Epoch accuracy:98.95%, Validation loss:2.268, Validation accuracy:58.04%\n",
            "Epoch 197: iteration 106/107\n",
            "Epoch 197 --- loss:0.040, Epoch accuracy:98.55%, Validation loss:2.050, Validation accuracy:60.61%\n",
            "Epoch 198: iteration 106/107\n",
            "Epoch 198 --- loss:0.046, Epoch accuracy:98.29%, Validation loss:2.361, Validation accuracy:58.04%\n",
            "Epoch 199: iteration 106/107\n",
            "Epoch 199 --- loss:0.034, Epoch accuracy:98.84%, Validation loss:2.161, Validation accuracy:60.37%\n",
            "Epoch 200: iteration 106/107\n",
            "Epoch 200 --- loss:0.026, Epoch accuracy:99.04%, Validation loss:2.553, Validation accuracy:58.28%\n",
            "Epoch 201: iteration 106/107\n",
            "Epoch 201 --- loss:0.047, Epoch accuracy:98.14%, Validation loss:2.338, Validation accuracy:58.97%\n",
            "Epoch 202: iteration 106/107\n",
            "Epoch 202 --- loss:0.067, Epoch accuracy:97.44%, Validation loss:2.232, Validation accuracy:60.37%\n",
            "Epoch 203: iteration 106/107\n",
            "Epoch 203 --- loss:0.043, Epoch accuracy:98.40%, Validation loss:2.139, Validation accuracy:59.21%\n",
            "Epoch 204: iteration 106/107\n",
            "Epoch 204 --- loss:0.032, Epoch accuracy:98.78%, Validation loss:2.168, Validation accuracy:60.61%\n",
            "Epoch 205: iteration 106/107\n",
            "Epoch 205 --- loss:0.035, Epoch accuracy:98.55%, Validation loss:2.513, Validation accuracy:55.71%\n",
            "Epoch 206: iteration 106/107\n",
            "Epoch 206 --- loss:0.051, Epoch accuracy:98.05%, Validation loss:2.416, Validation accuracy:60.37%\n",
            "Epoch 207: iteration 106/107\n",
            "Epoch 207 --- loss:0.038, Epoch accuracy:98.75%, Validation loss:2.514, Validation accuracy:54.78%\n",
            "Epoch 208: iteration 106/107\n",
            "Epoch 208 --- loss:0.066, Epoch accuracy:97.38%, Validation loss:2.041, Validation accuracy:63.17%\n",
            "Epoch 209: iteration 106/107\n",
            "Epoch 209 --- loss:0.041, Epoch accuracy:98.49%, Validation loss:2.072, Validation accuracy:61.54%\n",
            "Epoch 210: iteration 106/107\n",
            "Epoch 210 --- loss:0.060, Epoch accuracy:97.73%, Validation loss:2.030, Validation accuracy:58.51%\n",
            "Epoch 211: iteration 106/107\n",
            "Epoch 211 --- loss:0.037, Epoch accuracy:98.66%, Validation loss:2.141, Validation accuracy:58.28%\n",
            "Epoch 212: iteration 106/107\n",
            "Epoch 212 --- loss:0.036, Epoch accuracy:98.72%, Validation loss:2.333, Validation accuracy:57.11%\n",
            "Epoch 213: iteration 106/107\n",
            "Epoch 213 --- loss:0.031, Epoch accuracy:98.87%, Validation loss:2.274, Validation accuracy:58.97%\n",
            "Epoch 214: iteration 106/107\n",
            "Epoch 214 --- loss:0.029, Epoch accuracy:99.04%, Validation loss:2.173, Validation accuracy:60.14%\n",
            "Epoch 215: iteration 106/107\n",
            "Epoch 215 --- loss:0.037, Epoch accuracy:98.43%, Validation loss:2.172, Validation accuracy:58.97%\n",
            "Epoch 216: iteration 106/107\n",
            "Epoch 216 --- loss:0.039, Epoch accuracy:98.43%, Validation loss:2.280, Validation accuracy:58.51%\n",
            "Epoch 217: iteration 106/107\n",
            "Epoch 217 --- loss:0.052, Epoch accuracy:97.91%, Validation loss:2.162, Validation accuracy:54.78%\n",
            "Epoch 218: iteration 106/107\n",
            "Epoch 218 --- loss:0.040, Epoch accuracy:98.61%, Validation loss:2.177, Validation accuracy:59.44%\n",
            "Epoch 219: iteration 106/107\n",
            "Epoch 219 --- loss:0.039, Epoch accuracy:98.63%, Validation loss:2.229, Validation accuracy:59.44%\n",
            "Epoch 220: iteration 106/107\n",
            "Epoch 220 --- loss:0.065, Epoch accuracy:97.50%, Validation loss:2.330, Validation accuracy:55.24%\n",
            "Epoch 221: iteration 106/107\n",
            "Epoch 221 --- loss:0.048, Epoch accuracy:98.14%, Validation loss:2.199, Validation accuracy:60.14%\n",
            "Epoch 222: iteration 106/107\n",
            "Epoch 222 --- loss:0.036, Epoch accuracy:98.87%, Validation loss:2.273, Validation accuracy:58.51%\n",
            "Epoch 223: iteration 106/107\n",
            "Epoch 223 --- loss:0.025, Epoch accuracy:98.98%, Validation loss:2.140, Validation accuracy:60.14%\n",
            "Epoch 224: iteration 106/107\n",
            "Epoch 224 --- loss:0.024, Epoch accuracy:99.07%, Validation loss:2.337, Validation accuracy:60.14%\n",
            "Epoch 225: iteration 106/107\n",
            "Epoch 225 --- loss:0.048, Epoch accuracy:97.94%, Validation loss:2.222, Validation accuracy:59.21%\n",
            "Epoch 226: iteration 106/107\n",
            "Epoch 226 --- loss:0.031, Epoch accuracy:99.04%, Validation loss:2.098, Validation accuracy:58.28%\n",
            "Epoch 227: iteration 106/107\n",
            "Epoch 227 --- loss:0.062, Epoch accuracy:97.70%, Validation loss:2.242, Validation accuracy:58.51%\n",
            "Epoch 228: iteration 106/107\n",
            "Epoch 228 --- loss:0.073, Epoch accuracy:97.21%, Validation loss:2.194, Validation accuracy:57.58%\n",
            "Epoch 229: iteration 106/107\n",
            "Epoch 229 --- loss:0.060, Epoch accuracy:97.70%, Validation loss:2.095, Validation accuracy:60.14%\n",
            "Epoch 230: iteration 106/107\n",
            "Epoch 230 --- loss:0.035, Epoch accuracy:98.69%, Validation loss:2.009, Validation accuracy:60.14%\n",
            "Epoch 231: iteration 106/107\n",
            "Epoch 231 --- loss:0.052, Epoch accuracy:97.99%, Validation loss:2.100, Validation accuracy:61.54%\n",
            "Epoch 232: iteration 106/107\n",
            "Epoch 232 --- loss:0.027, Epoch accuracy:99.07%, Validation loss:2.240, Validation accuracy:58.28%\n",
            "Epoch 233: iteration 106/107\n",
            "Epoch 233 --- loss:0.040, Epoch accuracy:98.52%, Validation loss:2.238, Validation accuracy:57.58%\n",
            "Epoch 234: iteration 106/107\n",
            "Epoch 234 --- loss:0.038, Epoch accuracy:98.58%, Validation loss:2.156, Validation accuracy:59.44%\n",
            "Epoch 235: iteration 106/107\n",
            "Epoch 235 --- loss:0.077, Epoch accuracy:97.09%, Validation loss:2.165, Validation accuracy:59.44%\n",
            "Epoch 236: iteration 106/107\n",
            "Epoch 236 --- loss:0.043, Epoch accuracy:98.14%, Validation loss:2.540, Validation accuracy:57.34%\n",
            "Epoch 237: iteration 106/107\n",
            "Epoch 237 --- loss:0.033, Epoch accuracy:98.87%, Validation loss:2.225, Validation accuracy:60.37%\n",
            "Epoch 238: iteration 106/107\n",
            "Epoch 238 --- loss:0.026, Epoch accuracy:99.04%, Validation loss:2.137, Validation accuracy:57.11%\n",
            "Epoch 239: iteration 106/107\n",
            "Epoch 239 --- loss:0.036, Epoch accuracy:98.72%, Validation loss:2.207, Validation accuracy:57.81%\n",
            "Epoch 240: iteration 106/107\n",
            "Epoch 240 --- loss:0.032, Epoch accuracy:98.81%, Validation loss:2.228, Validation accuracy:59.21%\n",
            "Epoch 241: iteration 106/107\n",
            "Epoch 241 --- loss:0.026, Epoch accuracy:98.92%, Validation loss:2.130, Validation accuracy:60.61%\n",
            "Epoch 242: iteration 106/107\n",
            "Epoch 242 --- loss:0.043, Epoch accuracy:98.40%, Validation loss:2.278, Validation accuracy:58.74%\n",
            "Epoch 243: iteration 106/107\n",
            "Epoch 243 --- loss:0.033, Epoch accuracy:98.78%, Validation loss:2.270, Validation accuracy:59.67%\n",
            "Epoch 244: iteration 106/107\n",
            "Epoch 244 --- loss:0.027, Epoch accuracy:98.95%, Validation loss:2.452, Validation accuracy:58.74%\n",
            "Epoch 245: iteration 106/107\n",
            "Epoch 245 --- loss:0.031, Epoch accuracy:98.84%, Validation loss:2.427, Validation accuracy:59.67%\n",
            "Epoch 246: iteration 106/107\n",
            "Epoch 246 --- loss:0.033, Epoch accuracy:98.84%, Validation loss:2.298, Validation accuracy:59.67%\n",
            "Epoch 247: iteration 106/107\n",
            "Epoch 247 --- loss:0.034, Epoch accuracy:98.63%, Validation loss:2.181, Validation accuracy:60.37%\n",
            "Epoch 248: iteration 106/107\n",
            "Epoch 248 --- loss:0.031, Epoch accuracy:98.66%, Validation loss:2.196, Validation accuracy:57.58%\n",
            "Epoch 249: iteration 106/107\n",
            "Epoch 249 --- loss:0.024, Epoch accuracy:99.16%, Validation loss:2.409, Validation accuracy:60.14%\n"
          ]
        }
      ],
      "source": [
        "# choose number of epochs higher than reasonable so we can manually stop training\n",
        "num_epochs = 250\n",
        "\n",
        "# train it!\n",
        "train(optimizer, model, num_epochs, X_train, y_train, X_valid, y_valid)"
      ]
    },
    {
      "cell_type": "markdown",
      "metadata": {
        "id": "cPDpzMtU60D9"
      },
      "source": [
        "# Check the Loss Curve's Behaviour\n"
      ]
    },
    {
      "cell_type": "code",
      "execution_count": null,
      "metadata": {
        "id": "m4gI1cj460D9",
        "colab": {
          "base_uri": "https://localhost:8080/",
          "height": 478
        },
        "outputId": "12bebd97-aa3f-49dd-bfc4-179b5b221e24"
      },
      "outputs": [
        {
          "output_type": "display_data",
          "data": {
            "text/plain": [
              "<Figure size 640x480 with 1 Axes>"
            ],
            "image/png": "[encoded data removed]"
          },
          "metadata": {}
        }
      ],
      "source": [
        "plt.title('Loss Curve for Parallel is All You Want Model')\n",
        "plt.ylabel('Loss', fontsize=16)\n",
        "plt.xlabel('Epoch', fontsize=16)\n",
        "plt.plot(train_losses[:],'b')\n",
        "plt.plot(valid_losses[:],'r')\n",
        "plt.legend(['Training loss','Validation loss'])\n",
        "plt.show()"
      ]
    },
    {
      "cell_type": "markdown",
      "metadata": {
        "id": "dOoycLWt60EA"
      },
      "source": [
        "# Load the Trained Model from Checkpoint for Evaluation"
      ]
    },
    {
      "cell_type": "code",
      "execution_count": null,
      "metadata": {
        "id": "7ZMZvY3Z60EA",
        "colab": {
          "base_uri": "https://localhost:8080/"
        },
        "outputId": "644431a5-fe7d-4460-c6bf-cf69eecc9693"
      },
      "outputs": [
        {
          "output_type": "stream",
          "name": "stdout",
          "text": [
            "Loaded model from /content/drive/MyDrive/DL/parallel_all_you_wantFINAL-180.pkl\n"
          ]
        }
      ],
      "source": [
        "# pick load folder\n",
        "load_folder ='/content/drive/MyDrive/DL'\n",
        "\n",
        "# pick the epoch to load\n",
        "epoch = '180'\n",
        "model_name = f'parallel_all_you_wantFINAL-{epoch}.pkl'\n",
        "\n",
        "# make full load path\n",
        "load_path = os.path.join(load_folder, model_name)\n",
        "\n",
        "## instantiate empty model and populate with params from binary\n",
        "model = parallel_all_you_want(len(emotions_dict))\n",
        "load_checkpoint(optimizer, model, load_path)\n",
        "\n",
        "print(f'Loaded model from {load_path}')"
      ]
    },
    {
      "cell_type": "markdown",
      "metadata": {
        "id": "At3PtzXZ60ED"
      },
      "source": [
        "# Evaluate the Model on Hold-Out Test Set\n"
      ]
    },
    {
      "cell_type": "code",
      "execution_count": null,
      "metadata": {
        "id": "jMw_Eecr60ED",
        "colab": {
          "base_uri": "https://localhost:8080/"
        },
        "outputId": "7e922604-1bbe-4e89-d0ba-a4f185eca523"
      },
      "outputs": [
        {
          "output_type": "stream",
          "name": "stdout",
          "text": [
            "Test accuracy is 65.78%\n"
          ]
        }
      ],
      "source": [
        "\n",
        "\n",
        "import torch\n",
        "\n",
        "model = model.to(device)\n",
        "validate = make_validate_fnc(model, criterion)\n",
        "\n",
        "X_test_tensor = torch.tensor(X_test).float().to(device)\n",
        "\n",
        "y_test_tensor = torch.tensor(y_test, dtype=torch.long).to(device)\n",
        "\n",
        "test_loss, test_acc, predicted_emotions = validate(X_test_tensor, y_test_tensor)\n",
        "\n",
        "print(f'Test accuracy is {test_acc:.2f}%')"
      ]
    },
    {
      "cell_type": "markdown",
      "metadata": {
        "id": "oQ-hw8EX60EH"
      },
      "source": [
        "# Analyze Performance on Test Set"
      ]
    },
    {
      "cell_type": "code",
      "execution_count": null,
      "metadata": {
        "id": "FigquBeQ60EI",
        "colab": {
          "base_uri": "https://localhost:8080/",
          "height": 599
        },
        "outputId": "5de4bd35-4ea2-4ded-c1d5-056281d34de8"
      },
      "outputs": [
        {
          "output_type": "display_data",
          "data": {
            "text/plain": [
              "<Figure size 1600x600 with 4 Axes>"
            ],
            "image/png": "[encoded data removed]"
          },
          "metadata": {}
        }
      ],
      "source": [
        "from sklearn.metrics import confusion_matrix\n",
        "import seaborn as sn\n",
        "\n",
        "# because model tested on GPU, move prediction tensor to CPU then convert to array\n",
        "predicted_emotions = predicted_emotions.cpu().numpy()\n",
        "# use labels from test set\n",
        "emotions_groundtruth = y_test\n",
        "\n",
        "# build confusion matrix and normalized confusion matrix\n",
        "conf_matrix = confusion_matrix(emotions_groundtruth, predicted_emotions)\n",
        "conf_matrix_norm = confusion_matrix(emotions_groundtruth, predicted_emotions,normalize='true')\n",
        "\n",
        "# set labels for matrix axes from emotions\n",
        "emotion_names = [emotion for emotion in emotions_dict.values()]\n",
        "\n",
        "# make a confusion matrix with labels using a DataFrame\n",
        "confmatrix_df = pd.DataFrame(conf_matrix, index=emotion_names, columns=emotion_names)\n",
        "confmatrix_df_norm = pd.DataFrame(conf_matrix_norm, index=emotion_names, columns=emotion_names)\n",
        "\n",
        "# plot confusion matrices\n",
        "plt.figure(figsize=(16,6))\n",
        "sn.set(font_scale=1.8) # emotion label and title size\n",
        "plt.subplot(1,2,1)\n",
        "plt.title('Confusion Matrix')\n",
        "sn.heatmap(confmatrix_df, annot=True, annot_kws={\"size\": 18}) #annot_kws is value font\n",
        "plt.subplot(1,2,2)\n",
        "plt.title('Normalized Confusion Matrix')\n",
        "sn.heatmap(confmatrix_df_norm, annot=True, annot_kws={\"size\": 13}) #annot_kws is value font\n",
        "\n",
        "plt.show()"
      ]
    }
  ],
  "metadata": {
    "accelerator": "GPU",
    "colab": {
      "gpuType": "T4",
      "provenance": []
    },
    "kernelspec": {
      "display_name": "KERNEL",
      "language": "python",
      "name": "kernel"
    },
    "language_info": {
      "codemirror_mode": {
        "name": "ipython",
        "version": 3
      },
      "file_extension": ".py",
      "mimetype": "text/x-python",
      "name": "python",
      "nbconvert_exporter": "python",
      "pygments_lexer": "ipython3",
      "version": "3.8.3"
    }
  },
  "nbformat": 4,
  "nbformat_minor": 0
}